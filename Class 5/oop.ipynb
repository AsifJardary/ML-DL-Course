{
 "cells": [
  {
   "cell_type": "code",
   "execution_count": null,
   "source": [],
   "outputs": [],
   "metadata": {}
  },
  {
   "cell_type": "markdown",
   "source": [
    "## OOP\r\n",
    "* Class\r\n",
    "* Object"
   ],
   "metadata": {}
  },
  {
   "cell_type": "code",
   "execution_count": 35,
   "source": [
    "# Classs\r\n",
    "class Student:\r\n",
    "    ## Features or Attributes\r\n",
    "    stream = \"CSE\"\r\n",
    "\r\n",
    "    ## Constructor\r\n",
    "    def __init__(self, roll):\r\n",
    "        self.roll = roll\r\n",
    "\r\n",
    "    ## Behaviours\r\n",
    "    def say(self):\r\n",
    "        print(f\"Hi My Roll is {self.roll}\")\r\n",
    "    \r\n",
    "    def updateRoll(self, roll):\r\n",
    "        self.roll = roll\r\n"
   ],
   "outputs": [],
   "metadata": {}
  },
  {
   "cell_type": "code",
   "execution_count": 33,
   "source": [
    "## Object\r\n",
    "alexa = Student(1)\r\n",
    "alexa.say()\r\n",
    "alexa.updateRoll(5)\r\n",
    "alexa.stream\r\n",
    "alexa.say()"
   ],
   "outputs": [
    {
     "output_type": "stream",
     "name": "stdout",
     "text": [
      "Hi My Roll is 1\n",
      "Hi My Roll is 5\n"
     ]
    }
   ],
   "metadata": {}
  },
  {
   "cell_type": "code",
   "execution_count": 24,
   "source": [
    "john = Student(2)\r\n",
    "john.say()\r\n",
    "john.stream = \"ME\"\r\n",
    "john.stream"
   ],
   "outputs": [
    {
     "output_type": "stream",
     "name": "stdout",
     "text": [
      "Hi My Roll is 2\n"
     ]
    },
    {
     "output_type": "execute_result",
     "data": {
      "text/plain": [
       "'ME'"
      ]
     },
     "metadata": {},
     "execution_count": 24
    }
   ],
   "metadata": {}
  },
  {
   "cell_type": "code",
   "execution_count": 30,
   "source": [
    "alexa = Student(1)\r\n",
    "alexa.say()\r\n",
    "alexa.stream\r\n",
    "alexa.roll = 3\r\n",
    "alexa.say()\r\n",
    "alexa.roll"
   ],
   "outputs": [
    {
     "output_type": "stream",
     "name": "stdout",
     "text": [
      "Hi My Roll is 1\n",
      "Hi My Roll is 3\n"
     ]
    },
    {
     "output_type": "execute_result",
     "data": {
      "text/plain": [
       "3"
      ]
     },
     "metadata": {},
     "execution_count": 30
    }
   ],
   "metadata": {}
  },
  {
   "cell_type": "markdown",
   "source": [
    "* Encapsulation\r\n",
    "* Abstraction\r\n",
    "* Inheritance\r\n",
    "* Polymorphism"
   ],
   "metadata": {}
  },
  {
   "cell_type": "code",
   "execution_count": null,
   "source": [],
   "outputs": [],
   "metadata": {}
  }
 ],
 "metadata": {
  "orig_nbformat": 4,
  "language_info": {
   "name": "python",
   "version": "3.9.5",
   "mimetype": "text/x-python",
   "codemirror_mode": {
    "name": "ipython",
    "version": 3
   },
   "pygments_lexer": "ipython3",
   "nbconvert_exporter": "python",
   "file_extension": ".py"
  },
  "kernelspec": {
   "name": "python3",
   "display_name": "Python 3.9.5 64-bit"
  },
  "interpreter": {
   "hash": "b3a1bebe63c7b2a053642fa9fe52396479a14cfcd0c0746e926f464b03352c88"
  }
 },
 "nbformat": 4,
 "nbformat_minor": 2
}