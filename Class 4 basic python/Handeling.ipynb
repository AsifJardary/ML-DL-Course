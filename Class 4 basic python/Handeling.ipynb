{
 "cells": [
  {
   "cell_type": "markdown",
   "source": [
    "## File Handeling\r\n",
    "* Creation\r\n",
    "* Reading\r\n",
    "* Writing\r\n",
    "* Appending\r\n",
    "* Closing"
   ],
   "metadata": {}
  },
  {
   "cell_type": "code",
   "execution_count": 5,
   "source": [
    "a = open(\"file1.txt\", mode='w')\r\n",
    "a.write(\"AI & Data Science Is Awesome!\")\r\n",
    "a.close()"
   ],
   "outputs": [],
   "metadata": {}
  },
  {
   "cell_type": "code",
   "execution_count": 6,
   "source": [
    "a = open(\"file1.txt\", mode='a')\r\n",
    "a.write(\"\\nML is subset of AI\")\r\n",
    "a.close()"
   ],
   "outputs": [],
   "metadata": {}
  },
  {
   "cell_type": "code",
   "execution_count": 7,
   "source": [
    "a = open(\"file1.txt\", mode='r')\r\n",
    "print(a.read())\r\n",
    "a.close()"
   ],
   "outputs": [
    {
     "output_type": "stream",
     "name": "stdout",
     "text": [
      "AI & Data Science Is Awesome!\n",
      "ML is subset of AI\n"
     ]
    }
   ],
   "metadata": {}
  },
  {
   "cell_type": "code",
   "execution_count": 9,
   "source": [
    "a = open(\"file1.txt\", mode='r+')\r\n",
    "print(a.read())\r\n",
    "a.write(\"\\nDeep Learning is subset of ML\")\r\n",
    "print(a.read())\r\n",
    "a.close()"
   ],
   "outputs": [
    {
     "output_type": "stream",
     "name": "stdout",
     "text": [
      "AI & Data Science Is Awesome!\n",
      "ML is subset of AI\n",
      "Deep Learning is subset of ML\n",
      "\n"
     ]
    }
   ],
   "metadata": {}
  },
  {
   "cell_type": "code",
   "execution_count": 10,
   "source": [
    "## Create a File and Write Data\r\n",
    "## Create a Copy"
   ],
   "outputs": [],
   "metadata": {}
  },
  {
   "cell_type": "code",
   "execution_count": 12,
   "source": [
    "a = open(r\"New\\file1.txt\", mode='w')\r\n",
    "a.write(\"AI & Data Science Is Awesome!\")\r\n",
    "a.close()"
   ],
   "outputs": [],
   "metadata": {}
  },
  {
   "cell_type": "code",
   "execution_count": 13,
   "source": [
    "a = open(r\"New\\file1.txt\", mode='r')\r\n",
    "print(a.read())\r\n",
    "a.close()"
   ],
   "outputs": [
    {
     "output_type": "stream",
     "name": "stdout",
     "text": [
      "AI & Data Science Is Awesome!\n"
     ]
    }
   ],
   "metadata": {}
  },
  {
   "cell_type": "code",
   "execution_count": 14,
   "source": [
    "## Create a File and Write Data in a Folder\r\n",
    "## Create a Copy in another Folder"
   ],
   "outputs": [],
   "metadata": {}
  },
  {
   "cell_type": "code",
   "execution_count": 34,
   "source": [
    "with open(\"file1.txt\", mode='r') as a:\r\n",
    "    print(a.read())\r\n"
   ],
   "outputs": [
    {
     "output_type": "stream",
     "name": "stdout",
     "text": [
      "AI & Data Science Is Awesome!\n",
      "ML is subset of AI\n",
      "Deep Learning is subset of ML\n",
      "Deep Learning is subset of ML\n"
     ]
    }
   ],
   "metadata": {}
  },
  {
   "cell_type": "markdown",
   "source": [
    "## Exception Handeling\r\n",
    "* Try\r\n",
    "* Except\r\n",
    "* Finally"
   ],
   "metadata": {}
  },
  {
   "cell_type": "code",
   "execution_count": 16,
   "source": [
    "a = open(r\"file2.txt\", mode='r')\r\n",
    "print(a.read())\r\n",
    "a.close()\r\n",
    "print(\"Done\")"
   ],
   "outputs": [
    {
     "output_type": "error",
     "ename": "FileNotFoundError",
     "evalue": "[Errno 2] No such file or directory: 'file2.txt'",
     "traceback": [
      "\u001b[1;31m---------------------------------------------------------------------------\u001b[0m",
      "\u001b[1;31mFileNotFoundError\u001b[0m                         Traceback (most recent call last)",
      "\u001b[1;32m<ipython-input-16-167022e71c01>\u001b[0m in \u001b[0;36m<module>\u001b[1;34m\u001b[0m\n\u001b[1;32m----> 1\u001b[1;33m \u001b[0ma\u001b[0m \u001b[1;33m=\u001b[0m \u001b[0mopen\u001b[0m\u001b[1;33m(\u001b[0m\u001b[1;34mr\"file2.txt\"\u001b[0m\u001b[1;33m,\u001b[0m \u001b[0mmode\u001b[0m\u001b[1;33m=\u001b[0m\u001b[1;34m'r'\u001b[0m\u001b[1;33m)\u001b[0m\u001b[1;33m\u001b[0m\u001b[1;33m\u001b[0m\u001b[0m\n\u001b[0m\u001b[0;32m      2\u001b[0m \u001b[0mprint\u001b[0m\u001b[1;33m(\u001b[0m\u001b[0ma\u001b[0m\u001b[1;33m.\u001b[0m\u001b[0mread\u001b[0m\u001b[1;33m(\u001b[0m\u001b[1;33m)\u001b[0m\u001b[1;33m)\u001b[0m\u001b[1;33m\u001b[0m\u001b[1;33m\u001b[0m\u001b[0m\n\u001b[0;32m      3\u001b[0m \u001b[0ma\u001b[0m\u001b[1;33m.\u001b[0m\u001b[0mclose\u001b[0m\u001b[1;33m(\u001b[0m\u001b[1;33m)\u001b[0m\u001b[1;33m\u001b[0m\u001b[1;33m\u001b[0m\u001b[0m\n\u001b[0;32m      4\u001b[0m \u001b[0mprint\u001b[0m\u001b[1;33m(\u001b[0m\u001b[1;34m\"Done\"\u001b[0m\u001b[1;33m)\u001b[0m\u001b[1;33m\u001b[0m\u001b[1;33m\u001b[0m\u001b[0m\n",
      "\u001b[1;31mFileNotFoundError\u001b[0m: [Errno 2] No such file or directory: 'file2.txt'"
     ]
    }
   ],
   "metadata": {}
  },
  {
   "cell_type": "code",
   "execution_count": 20,
   "source": [
    "try:\r\n",
    "    a = open(r\"file2.txt\", mode='r')\r\n",
    "    print(a.read())\r\n",
    "    a.close()\r\n",
    "except Exception as e:\r\n",
    "    print(e)\r\n",
    "print(\"Done\")"
   ],
   "outputs": [
    {
     "output_type": "stream",
     "name": "stdout",
     "text": [
      "'tuple' object has no attribute 'read'\n",
      "Done\n"
     ]
    }
   ],
   "metadata": {}
  },
  {
   "cell_type": "code",
   "execution_count": 25,
   "source": [
    "try:\r\n",
    "    a = open(r\"file1.txt\", mode='r'),\r\n",
    "    print(a.read())\r\n",
    "    a.close()\r\n",
    "except FileNotFoundError as e:\r\n",
    "    print(e)\r\n",
    "except AttributeError as e:\r\n",
    "    print(e)\r\n",
    "print(\"Done\")"
   ],
   "outputs": [
    {
     "output_type": "stream",
     "name": "stdout",
     "text": [
      "'tuple' object has no attribute 'read'\n",
      "Done\n"
     ]
    }
   ],
   "metadata": {}
  },
  {
   "cell_type": "code",
   "execution_count": 29,
   "source": [
    "try:\r\n",
    "    a = open(r\"file2.txt\", mode='r')\r\n",
    "    print(a.read())\r\n",
    "    a.close()\r\n",
    "except FileNotFoundError as e:\r\n",
    "    print(e)\r\n",
    "    a = open(r\"file2.txt\", mode='w')\r\n",
    "    a.close()\r\n",
    "except AttributeError as e:\r\n",
    "    print(e)\r\n",
    "finally:\r\n",
    "    print(\"Done\")"
   ],
   "outputs": [
    {
     "output_type": "stream",
     "name": "stdout",
     "text": [
      "\n",
      "Done\n"
     ]
    }
   ],
   "metadata": {}
  },
  {
   "cell_type": "code",
   "execution_count": null,
   "source": [],
   "outputs": [],
   "metadata": {}
  }
 ],
 "metadata": {
  "orig_nbformat": 4,
  "language_info": {
   "name": "python",
   "version": "3.9.5",
   "mimetype": "text/x-python",
   "codemirror_mode": {
    "name": "ipython",
    "version": 3
   },
   "pygments_lexer": "ipython3",
   "nbconvert_exporter": "python",
   "file_extension": ".py"
  },
  "kernelspec": {
   "name": "python3",
   "display_name": "Python 3.9.5 64-bit"
  },
  "interpreter": {
   "hash": "b3a1bebe63c7b2a053642fa9fe52396479a14cfcd0c0746e926f464b03352c88"
  }
 },
 "nbformat": 4,
 "nbformat_minor": 2
}