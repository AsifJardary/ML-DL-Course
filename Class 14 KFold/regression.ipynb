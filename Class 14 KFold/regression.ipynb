{
 "cells": [
  {
   "cell_type": "markdown",
   "source": [
    "# 8 Steps Of Machine Learning\r\n",
    "* Data Gathering\r\n",
    "* Data pre-processing\r\n",
    "* Feature Engineering\r\n",
    "* Choosing Model\r\n",
    "* Training Model\r\n",
    "* Test Model/ Model Evaluation\r\n",
    "* Parameter Tuning\r\n",
    "* Prediction\r\n"
   ],
   "metadata": {}
  },
  {
   "cell_type": "code",
   "execution_count": null,
   "source": [
    "import numpy as np\r\n",
    "import pandas as pd\r\n",
    "import matplotlib.pyplot as plt\r\n",
    "%matplotlib inline"
   ],
   "outputs": [],
   "metadata": {}
  },
  {
   "cell_type": "markdown",
   "source": [
    "## Linear Regression"
   ],
   "metadata": {}
  },
  {
   "cell_type": "code",
   "execution_count": null,
   "source": [
    "# Data Gathering\r\n",
    "from sklearn.metrics import mean_squared_error, r2_score\r\n",
    "from sklearn import linear_model\r\n",
    "from sklearn import model_selection\r\n",
    "import seaborn as sns\r\n",
    "df = pd.read_csv(\"FuelConsumption.csv\")\r\n",
    "df.head()\r\n",
    "df.describe()\r\n",
    "\r\n",
    "#data Pre-Processing\r\n",
    "df.info()\r\n",
    "data = df[[\"ENGINESIZE\", \"CYLINDERS\", \"FUELCONSUMPTION_CITY\",\r\n",
    "           \"FUELCONSUMPTION_HWY\", \"FUELCONSUMPTION_COMB\", \"CO2EMISSIONS\"]]\r\n",
    "data.info()\r\n",
    "\r\n",
    "## Feature Engineering Analyssis\r\n",
    "corr = data.corr()\r\n",
    "sns.heatmap(corr)\r\n",
    "sns.pairplot(data)\r\n",
    "data = df[[\"ENGINESIZE\", \"CYLINDERS\", \"FUELCONSUMPTION_CITY\",\r\n",
    "           \"FUELCONSUMPTION_HWY\", \"FUELCONSUMPTION_COMB\", \"CO2EMISSIONS\"]]\r\n",
    "\r\n",
    "## Split data into training and test set\r\n",
    "X = data[[\"ENGINESIZE\", \"CYLINDERS\", \"FUELCONSUMPTION_COMB\"]]\r\n",
    "Y = data[[\"CO2EMISSIONS\"]]\r\n",
    "xtrain, xtest, ytrain, ytest = model_selection.train_test_split(\r\n",
    "    X, Y, test_size=0.2, random_state=1)\r\n",
    "\r\n",
    "## Choosing Model\r\n",
    "\r\n",
    "#Init\r\n",
    "model = linear_model.LinearRegression()\r\n",
    "\r\n",
    "## Train Model\r\n",
    "model.fit(xtrain, ytrain)\r\n",
    "print(model.score(xtrain, ytrain))\r\n",
    "\r\n",
    "## Predict/Test\r\n",
    "yhat = model.predict(xtest)\r\n",
    "\r\n",
    "## Metrics Evaluation\r\n",
    "print(\"MSE: \", mean_squared_error(yhat, ytest))\r\n",
    "print(\"R2 Score: \", r2_score(yhat, ytest))\r\n",
    "print(xtrain.shape, ytrain.shape)\r\n",
    "\r\n",
    "\r\n",
    "# Regression Analyssis\r\n",
    "line1 = np.linspace(1, 8.4, 853).reshape(-1, 1)\r\n",
    "line2 = np.linspace(1, 8.4, 853).reshape(-1, 1)\r\n",
    "line3 = np.linspace(1, 8.4, 853).reshape(-1, 1)\r\n",
    "lines = pd.DataFrame(\r\n",
    "    {\r\n",
    "        \"E\": line1[:, 0],\r\n",
    "        \"C\": line2[:, 0],\r\n",
    "        \"F\": line3[:, 0]\r\n",
    "    }\r\n",
    ")\r\n",
    "\r\n",
    "# fig, axes = plt.subplots(1, 1, figsize=(10, 6))\r\n",
    "# axes.scatter(xtrain[[\"ENGINESIZE\"]], ytrain, label=\"Actual Data\", c=\"hotpink\")\r\n",
    "# axes.plot(lines[[\"E\"]].values, model.predict(lines), label=\"Regression Line\", c=\"darkorange\")\r\n",
    "# axes.legend()\r\n",
    "# axes.set_xlabel(\"EngineSize\")\r\n",
    "# axes.set_ylabel(\"CO2Emission\")\r\n",
    "# plt.show()\r\n"
   ],
   "outputs": [],
   "metadata": {}
  },
  {
   "cell_type": "code",
   "execution_count": null,
   "source": [
    "## KFold Cross Validation\r\n",
    "from sklearn.model_selection import KFold\r\n",
    "\r\n",
    "folds = KFold(n_splits=5)\r\n",
    "accuracies = []\r\n",
    "fig, axes = plt.subplots(1, 5, figsize=(25, 6))\r\n",
    "for Index, axis in zip(folds.split(X), axes):\r\n",
    "    ##Training data\r\n",
    "    xtrain = X.iloc[Index[0]]\r\n",
    "    ytrain = Y.iloc[Index[0]]\r\n",
    "\r\n",
    "    ## Testing\r\n",
    "    xtest = X.iloc[Index[1]]\r\n",
    "    ytest = Y.iloc[Index[1]]\r\n",
    "\r\n",
    "    ## Model\r\n",
    "    model = linear_model.LinearRegression()\r\n",
    "    \r\n",
    "    ## Train Model\r\n",
    "    model.fit(xtrain, ytrain)\r\n",
    "\r\n",
    "    ## Test Prediction\r\n",
    "    ypred = model.predict(xtest)\r\n",
    "\r\n",
    "    ## Evaluation Metrices\r\n",
    "    print(\"================== Fold ================\")\r\n",
    "    print(\"MSE: \", mean_squared_error(ypred, ytest))\r\n",
    "    print(\"R2 Score: \", r2_score(ytest, ypred))\r\n",
    "\r\n",
    "    accuracies.append(r2_score(ytest, ypred))\r\n",
    "\r\n",
    "    ## Regression Analyssis\r\n",
    "#     line = np.linspace(1, 8.4, 853).reshape(-1, 1)\r\n",
    "#     axis.scatter(xtrain, ytrain, label=\"Actual Data\", c=\"hotpink\")\r\n",
    "#     axis.plot(line, model.predict(line), label=\"Regression Line\", c=\"black\", linewidth=5)\r\n",
    "#     axis.legend()\r\n",
    "#     axis.set_xlabel(\"EngineSize\")\r\n",
    "#     axis.set_ylabel(\"CO2Emission\")\r\n",
    "# plt.show()\r\n",
    "    \r\n",
    "sum(accuracies)/len(accuracies)\r\n"
   ],
   "outputs": [],
   "metadata": {}
  },
  {
   "cell_type": "code",
   "execution_count": null,
   "source": [
    "## Cross val score\r\n",
    "from sklearn import model_selection\r\n",
    "model = linear_model.LinearRegression()\r\n",
    "\r\n",
    "# metrics.SCORERS.keys()\r\n",
    "cv = model_selection.cross_val_score(\r\n",
    "    model,\r\n",
    "    X,Y,\r\n",
    "    cv=5,\r\n",
    "    scoring='r2', verbose=4\r\n",
    ")\r\n",
    "cv.mean()\r\n"
   ],
   "outputs": [],
   "metadata": {}
  },
  {
   "cell_type": "code",
   "execution_count": null,
   "source": [
    "list(zip([1,2,3], ['a','b','c']))\r\n",
    "line1[:, 0]\r\n"
   ],
   "outputs": [],
   "metadata": {}
  },
  {
   "cell_type": "code",
   "execution_count": null,
   "source": [],
   "outputs": [],
   "metadata": {}
  }
 ],
 "metadata": {
  "orig_nbformat": 4,
  "language_info": {
   "name": "python",
   "version": "3.9.7",
   "mimetype": "text/x-python",
   "codemirror_mode": {
    "name": "ipython",
    "version": 3
   },
   "pygments_lexer": "ipython3",
   "nbconvert_exporter": "python",
   "file_extension": ".py"
  },
  "kernelspec": {
   "name": "python3",
   "display_name": "Python 3.9.7 64-bit"
  },
  "interpreter": {
   "hash": "14a336a61cfaefff504b47e2b8e6e50961f0feafa7b211f8ff23081790c52144"
  }
 },
 "nbformat": 4,
 "nbformat_minor": 2
}