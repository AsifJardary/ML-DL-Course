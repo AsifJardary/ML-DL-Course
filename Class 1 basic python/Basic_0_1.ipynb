{
  "nbformat": 4,
  "nbformat_minor": 0,
  "metadata": {
    "colab": {
      "provenance": []
    },
    "kernelspec": {
      "name": "python3",
      "display_name": "Python 3"
    },
    "language_info": {
      "name": "python"
    }
  },
  "cells": [
    {
      "cell_type": "markdown",
      "source": [
        "**Data Types**\n",
        "Integer = 3\n",
        "Float = 3.34\n",
        "String = John\n",
        "Boolean = True/False\n",
        "complex = 2+3j"
      ],
      "metadata": {
        "id": "tn8mMdilsq63"
      }
    },
    {
      "cell_type": "code",
      "source": [
        "roll = 9\n",
        "roll"
      ],
      "metadata": {
        "colab": {
          "base_uri": "https://localhost:8080/"
        },
        "id": "SodhOPaBsuMt",
        "outputId": "12a681e3-911c-49f4-ffa8-9c4369e97558"
      },
      "execution_count": 1,
      "outputs": [
        {
          "output_type": "execute_result",
          "data": {
            "text/plain": [
              "9"
            ]
          },
          "metadata": {},
          "execution_count": 1
        }
      ]
    },
    {
      "cell_type": "code",
      "execution_count": 3,
      "metadata": {
        "colab": {
          "base_uri": "https://localhost:8080/"
        },
        "id": "VtWRUKgmsh-K",
        "outputId": "de6b218a-da39-4ed2-8177-cece6abbca14"
      },
      "outputs": [
        {
          "output_type": "stream",
          "name": "stdout",
          "text": [
            "98.8\n"
          ]
        }
      ],
      "source": [
        "tem = 98.8\n",
        "print(tem)"
      ]
    },
    {
      "cell_type": "code",
      "source": [
        "string = \"Python\"\n",
        "string"
      ],
      "metadata": {
        "colab": {
          "base_uri": "https://localhost:8080/",
          "height": 35
        },
        "id": "HC_9UnNRs3gn",
        "outputId": "85f47e09-3c5f-40b8-b75e-6ca7a2a4adf3"
      },
      "execution_count": 4,
      "outputs": [
        {
          "output_type": "execute_result",
          "data": {
            "text/plain": [
              "'Python'"
            ],
            "application/vnd.google.colaboratory.intrinsic+json": {
              "type": "string"
            }
          },
          "metadata": {},
          "execution_count": 4
        }
      ]
    },
    {
      "cell_type": "code",
      "source": [
        "married = False\n",
        "married"
      ],
      "metadata": {
        "colab": {
          "base_uri": "https://localhost:8080/"
        },
        "id": "f0Xmo9T2s3ek",
        "outputId": "c5b5860b-47dd-41f2-8c76-b44ae6268a96"
      },
      "execution_count": 5,
      "outputs": [
        {
          "output_type": "execute_result",
          "data": {
            "text/plain": [
              "False"
            ]
          },
          "metadata": {},
          "execution_count": 5
        }
      ]
    },
    {
      "cell_type": "code",
      "source": [
        "married = bool(0)\n",
        "married"
      ],
      "metadata": {
        "colab": {
          "base_uri": "https://localhost:8080/"
        },
        "id": "1-2RECofs3cE",
        "outputId": "df94db96-81b3-4398-c413-82498fe80dd6"
      },
      "execution_count": 6,
      "outputs": [
        {
          "output_type": "execute_result",
          "data": {
            "text/plain": [
              "False"
            ]
          },
          "metadata": {},
          "execution_count": 6
        }
      ]
    },
    {
      "cell_type": "markdown",
      "source": [
        "**How to use print()**"
      ],
      "metadata": {
        "id": "a61F_fjdtAoh"
      }
    },
    {
      "cell_type": "code",
      "source": [
        "print(\"hello World\")"
      ],
      "metadata": {
        "colab": {
          "base_uri": "https://localhost:8080/"
        },
        "id": "4GT4Qo9As3Y6",
        "outputId": "79355514-9dcb-4b5b-8912-e5b616e2be0a"
      },
      "execution_count": 7,
      "outputs": [
        {
          "output_type": "stream",
          "name": "stdout",
          "text": [
            "hello World\n"
          ]
        }
      ]
    },
    {
      "cell_type": "markdown",
      "source": [
        "# **Keywords**"
      ],
      "metadata": {
        "id": "sLWQ4PYatLFH"
      }
    },
    {
      "cell_type": "code",
      "source": [
        "import keyword\n",
        "keyword.kwlist"
      ],
      "metadata": {
        "colab": {
          "base_uri": "https://localhost:8080/"
        },
        "id": "MdXUvv2Xs3U7",
        "outputId": "f53f7176-5116-4e22-9667-b67c9250d734"
      },
      "execution_count": 8,
      "outputs": [
        {
          "output_type": "execute_result",
          "data": {
            "text/plain": [
              "['False',\n",
              " 'None',\n",
              " 'True',\n",
              " 'and',\n",
              " 'as',\n",
              " 'assert',\n",
              " 'async',\n",
              " 'await',\n",
              " 'break',\n",
              " 'class',\n",
              " 'continue',\n",
              " 'def',\n",
              " 'del',\n",
              " 'elif',\n",
              " 'else',\n",
              " 'except',\n",
              " 'finally',\n",
              " 'for',\n",
              " 'from',\n",
              " 'global',\n",
              " 'if',\n",
              " 'import',\n",
              " 'in',\n",
              " 'is',\n",
              " 'lambda',\n",
              " 'nonlocal',\n",
              " 'not',\n",
              " 'or',\n",
              " 'pass',\n",
              " 'raise',\n",
              " 'return',\n",
              " 'try',\n",
              " 'while',\n",
              " 'with',\n",
              " 'yield']"
            ]
          },
          "metadata": {},
          "execution_count": 8
        }
      ]
    },
    {
      "cell_type": "markdown",
      "source": [
        "# **String Formatting**\n",
        "\n",
        ".format()\n",
        "f-String\n",
        "place-holder"
      ],
      "metadata": {
        "id": "vWsLyVevtYzw"
      }
    },
    {
      "cell_type": "code",
      "source": [
        "name=input('Enter Your Name: ')\n",
        "age=int(input(\"Enter Your age: \"))\n",
        "weight=float(input(\"Enter Your weight: \"))\n",
        "\n",
        "print('Welcome '+ name)\n",
        "print(\"Your age :\",age)\n",
        "print(\"Your weight :\", weight)\n",
        "print(\"Hello world\")"
      ],
      "metadata": {
        "id": "48YbZ30ks3TA"
      },
      "execution_count": null,
      "outputs": []
    },
    {
      "cell_type": "code",
      "source": [
        "print(\"Welcome {0}! Your age {1} Your Weight {2}\".format(name, age, weight))"
      ],
      "metadata": {
        "id": "g-nURla4s3Ir"
      },
      "execution_count": null,
      "outputs": []
    },
    {
      "cell_type": "code",
      "source": [
        "print(\"Welcome {0}!\\n Your age {1}\\n Your Weight {2}\".format(name, age, weight))"
      ],
      "metadata": {
        "id": "i5TXFj4ws28V"
      },
      "execution_count": null,
      "outputs": []
    },
    {
      "cell_type": "code",
      "source": [
        "print(f\"Welcome {name}! Your age {age} Your Weight {weight}\")"
      ],
      "metadata": {
        "id": "XQsZH3azs2tL"
      },
      "execution_count": null,
      "outputs": []
    },
    {
      "cell_type": "code",
      "source": [
        "print(\"Welcome %s! Your age %d Your Weight %.2f\" %(name, age, weight,56))"
      ],
      "metadata": {
        "id": "PKsLIrbUs2fP"
      },
      "execution_count": null,
      "outputs": []
    },
    {
      "cell_type": "markdown",
      "source": [],
      "metadata": {
        "id": "DM7q4NXYspKG"
      }
    }
  ]
}