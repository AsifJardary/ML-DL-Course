{
 "cells": [
  {
   "cell_type": "code",
   "execution_count": 1,
   "source": [
    "## IMporting Libs\r\n",
    "import numpy as np\r\n",
    "import pandas as pd\r\n",
    "import matplotlib.pyplot as plt"
   ],
   "outputs": [],
   "metadata": {}
  },
  {
   "cell_type": "code",
   "execution_count": 2,
   "source": [
    "## data gathering\r\n",
    "data = pd.read_csv('iris.csv')\r\n",
    "data.head()"
   ],
   "outputs": [
    {
     "output_type": "execute_result",
     "data": {
      "text/html": [
       "<div>\n",
       "<style scoped>\n",
       "    .dataframe tbody tr th:only-of-type {\n",
       "        vertical-align: middle;\n",
       "    }\n",
       "\n",
       "    .dataframe tbody tr th {\n",
       "        vertical-align: top;\n",
       "    }\n",
       "\n",
       "    .dataframe thead th {\n",
       "        text-align: right;\n",
       "    }\n",
       "</style>\n",
       "<table border=\"1\" class=\"dataframe\">\n",
       "  <thead>\n",
       "    <tr style=\"text-align: right;\">\n",
       "      <th></th>\n",
       "      <th>Id</th>\n",
       "      <th>SepalLengthCm</th>\n",
       "      <th>SepalWidthCm</th>\n",
       "      <th>PetalLengthCm</th>\n",
       "      <th>PetalWidthCm</th>\n",
       "      <th>Species</th>\n",
       "    </tr>\n",
       "  </thead>\n",
       "  <tbody>\n",
       "    <tr>\n",
       "      <th>0</th>\n",
       "      <td>1</td>\n",
       "      <td>5.1</td>\n",
       "      <td>3.5</td>\n",
       "      <td>1.4</td>\n",
       "      <td>0.2</td>\n",
       "      <td>Iris-setosa</td>\n",
       "    </tr>\n",
       "    <tr>\n",
       "      <th>1</th>\n",
       "      <td>2</td>\n",
       "      <td>4.9</td>\n",
       "      <td>3.0</td>\n",
       "      <td>1.4</td>\n",
       "      <td>0.2</td>\n",
       "      <td>Iris-setosa</td>\n",
       "    </tr>\n",
       "    <tr>\n",
       "      <th>2</th>\n",
       "      <td>3</td>\n",
       "      <td>4.7</td>\n",
       "      <td>3.2</td>\n",
       "      <td>1.3</td>\n",
       "      <td>0.2</td>\n",
       "      <td>Iris-setosa</td>\n",
       "    </tr>\n",
       "    <tr>\n",
       "      <th>3</th>\n",
       "      <td>4</td>\n",
       "      <td>4.6</td>\n",
       "      <td>3.1</td>\n",
       "      <td>1.5</td>\n",
       "      <td>0.2</td>\n",
       "      <td>Iris-setosa</td>\n",
       "    </tr>\n",
       "    <tr>\n",
       "      <th>4</th>\n",
       "      <td>5</td>\n",
       "      <td>5.0</td>\n",
       "      <td>3.6</td>\n",
       "      <td>1.4</td>\n",
       "      <td>0.2</td>\n",
       "      <td>Iris-setosa</td>\n",
       "    </tr>\n",
       "  </tbody>\n",
       "</table>\n",
       "</div>"
      ],
      "text/plain": [
       "   Id  SepalLengthCm  SepalWidthCm  PetalLengthCm  PetalWidthCm      Species\n",
       "0   1            5.1           3.5            1.4           0.2  Iris-setosa\n",
       "1   2            4.9           3.0            1.4           0.2  Iris-setosa\n",
       "2   3            4.7           3.2            1.3           0.2  Iris-setosa\n",
       "3   4            4.6           3.1            1.5           0.2  Iris-setosa\n",
       "4   5            5.0           3.6            1.4           0.2  Iris-setosa"
      ]
     },
     "metadata": {},
     "execution_count": 2
    }
   ],
   "metadata": {}
  },
  {
   "cell_type": "code",
   "execution_count": 3,
   "source": [
    "## Data Pre-Processing\r\n",
    "data.drop(['Id'], axis=1, inplace=True)\r\n",
    "data.head()"
   ],
   "outputs": [
    {
     "output_type": "execute_result",
     "data": {
      "text/html": [
       "<div>\n",
       "<style scoped>\n",
       "    .dataframe tbody tr th:only-of-type {\n",
       "        vertical-align: middle;\n",
       "    }\n",
       "\n",
       "    .dataframe tbody tr th {\n",
       "        vertical-align: top;\n",
       "    }\n",
       "\n",
       "    .dataframe thead th {\n",
       "        text-align: right;\n",
       "    }\n",
       "</style>\n",
       "<table border=\"1\" class=\"dataframe\">\n",
       "  <thead>\n",
       "    <tr style=\"text-align: right;\">\n",
       "      <th></th>\n",
       "      <th>SepalLengthCm</th>\n",
       "      <th>SepalWidthCm</th>\n",
       "      <th>PetalLengthCm</th>\n",
       "      <th>PetalWidthCm</th>\n",
       "      <th>Species</th>\n",
       "    </tr>\n",
       "  </thead>\n",
       "  <tbody>\n",
       "    <tr>\n",
       "      <th>0</th>\n",
       "      <td>5.1</td>\n",
       "      <td>3.5</td>\n",
       "      <td>1.4</td>\n",
       "      <td>0.2</td>\n",
       "      <td>Iris-setosa</td>\n",
       "    </tr>\n",
       "    <tr>\n",
       "      <th>1</th>\n",
       "      <td>4.9</td>\n",
       "      <td>3.0</td>\n",
       "      <td>1.4</td>\n",
       "      <td>0.2</td>\n",
       "      <td>Iris-setosa</td>\n",
       "    </tr>\n",
       "    <tr>\n",
       "      <th>2</th>\n",
       "      <td>4.7</td>\n",
       "      <td>3.2</td>\n",
       "      <td>1.3</td>\n",
       "      <td>0.2</td>\n",
       "      <td>Iris-setosa</td>\n",
       "    </tr>\n",
       "    <tr>\n",
       "      <th>3</th>\n",
       "      <td>4.6</td>\n",
       "      <td>3.1</td>\n",
       "      <td>1.5</td>\n",
       "      <td>0.2</td>\n",
       "      <td>Iris-setosa</td>\n",
       "    </tr>\n",
       "    <tr>\n",
       "      <th>4</th>\n",
       "      <td>5.0</td>\n",
       "      <td>3.6</td>\n",
       "      <td>1.4</td>\n",
       "      <td>0.2</td>\n",
       "      <td>Iris-setosa</td>\n",
       "    </tr>\n",
       "  </tbody>\n",
       "</table>\n",
       "</div>"
      ],
      "text/plain": [
       "   SepalLengthCm  SepalWidthCm  PetalLengthCm  PetalWidthCm      Species\n",
       "0            5.1           3.5            1.4           0.2  Iris-setosa\n",
       "1            4.9           3.0            1.4           0.2  Iris-setosa\n",
       "2            4.7           3.2            1.3           0.2  Iris-setosa\n",
       "3            4.6           3.1            1.5           0.2  Iris-setosa\n",
       "4            5.0           3.6            1.4           0.2  Iris-setosa"
      ]
     },
     "metadata": {},
     "execution_count": 3
    }
   ],
   "metadata": {}
  },
  {
   "cell_type": "code",
   "execution_count": 4,
   "source": [
    "## Labeling\r\n",
    "from sklearn.preprocessing import LabelEncoder\r\n",
    "\r\n",
    "encoder = LabelEncoder()\r\n",
    "encodedY = encoder.fit(data[['Species']])\r\n",
    "labeledY = encoder.transform(data[['Species']])\r\n",
    "labeledY"
   ],
   "outputs": [
    {
     "output_type": "stream",
     "name": "stderr",
     "text": [
      "C:\\Python3.9\\lib\\site-packages\\sklearn\\utils\\validation.py:63: DataConversionWarning: A column-vector y was passed when a 1d array was expected. Please change the shape of y to (n_samples, ), for example using ravel().\n",
      "  return f(*args, **kwargs)\n"
     ]
    },
    {
     "output_type": "execute_result",
     "data": {
      "text/plain": [
       "array([0, 0, 0, 0, 0, 0, 0, 0, 0, 0, 0, 0, 0, 0, 0, 0, 0, 0, 0, 0, 0, 0,\n",
       "       0, 0, 0, 0, 0, 0, 0, 0, 0, 0, 0, 0, 0, 0, 0, 0, 0, 0, 0, 0, 0, 0,\n",
       "       0, 0, 0, 0, 0, 0, 1, 1, 1, 1, 1, 1, 1, 1, 1, 1, 1, 1, 1, 1, 1, 1,\n",
       "       1, 1, 1, 1, 1, 1, 1, 1, 1, 1, 1, 1, 1, 1, 1, 1, 1, 1, 1, 1, 1, 1,\n",
       "       1, 1, 1, 1, 1, 1, 1, 1, 1, 1, 1, 1, 2, 2, 2, 2, 2, 2, 2, 2, 2, 2,\n",
       "       2, 2, 2, 2, 2, 2, 2, 2, 2, 2, 2, 2, 2, 2, 2, 2, 2, 2, 2, 2, 2, 2,\n",
       "       2, 2, 2, 2, 2, 2, 2, 2, 2, 2, 2, 2, 2, 2, 2, 2, 2, 2])"
      ]
     },
     "metadata": {},
     "execution_count": 4
    }
   ],
   "metadata": {}
  },
  {
   "cell_type": "code",
   "execution_count": 5,
   "source": [
    "## Scaling\r\n",
    "from sklearn.preprocessing import StandardScaler, MinMaxScaler\r\n",
    "\r\n",
    "scaler = StandardScaler()\r\n",
    "scaledX = scaler.fit_transform(data[['SepalLengthCm', 'SepalWidthCm']])\r\n",
    "scaledX"
   ],
   "outputs": [
    {
     "output_type": "execute_result",
     "data": {
      "text/plain": [
       "array([[-0.90068117,  1.03205722],\n",
       "       [-1.14301691, -0.1249576 ],\n",
       "       [-1.38535265,  0.33784833],\n",
       "       [-1.50652052,  0.10644536],\n",
       "       [-1.02184904,  1.26346019],\n",
       "       [-0.53717756,  1.95766909],\n",
       "       [-1.50652052,  0.80065426],\n",
       "       [-1.02184904,  0.80065426],\n",
       "       [-1.74885626, -0.35636057],\n",
       "       [-1.14301691,  0.10644536],\n",
       "       [-0.53717756,  1.49486315],\n",
       "       [-1.26418478,  0.80065426],\n",
       "       [-1.26418478, -0.1249576 ],\n",
       "       [-1.87002413, -0.1249576 ],\n",
       "       [-0.05250608,  2.18907205],\n",
       "       [-0.17367395,  3.11468391],\n",
       "       [-0.53717756,  1.95766909],\n",
       "       [-0.90068117,  1.03205722],\n",
       "       [-0.17367395,  1.72626612],\n",
       "       [-0.90068117,  1.72626612],\n",
       "       [-0.53717756,  0.80065426],\n",
       "       [-0.90068117,  1.49486315],\n",
       "       [-1.50652052,  1.26346019],\n",
       "       [-0.90068117,  0.56925129],\n",
       "       [-1.26418478,  0.80065426],\n",
       "       [-1.02184904, -0.1249576 ],\n",
       "       [-1.02184904,  0.80065426],\n",
       "       [-0.7795133 ,  1.03205722],\n",
       "       [-0.7795133 ,  0.80065426],\n",
       "       [-1.38535265,  0.33784833],\n",
       "       [-1.26418478,  0.10644536],\n",
       "       [-0.53717756,  0.80065426],\n",
       "       [-0.7795133 ,  2.42047502],\n",
       "       [-0.41600969,  2.65187798],\n",
       "       [-1.14301691,  0.10644536],\n",
       "       [-1.02184904,  0.33784833],\n",
       "       [-0.41600969,  1.03205722],\n",
       "       [-1.14301691,  0.10644536],\n",
       "       [-1.74885626, -0.1249576 ],\n",
       "       [-0.90068117,  0.80065426],\n",
       "       [-1.02184904,  1.03205722],\n",
       "       [-1.62768839, -1.74477836],\n",
       "       [-1.74885626,  0.33784833],\n",
       "       [-1.02184904,  1.03205722],\n",
       "       [-0.90068117,  1.72626612],\n",
       "       [-1.26418478, -0.1249576 ],\n",
       "       [-0.90068117,  1.72626612],\n",
       "       [-1.50652052,  0.33784833],\n",
       "       [-0.65834543,  1.49486315],\n",
       "       [-1.02184904,  0.56925129],\n",
       "       [ 1.40150837,  0.33784833],\n",
       "       [ 0.67450115,  0.33784833],\n",
       "       [ 1.2803405 ,  0.10644536],\n",
       "       [-0.41600969, -1.74477836],\n",
       "       [ 0.79566902, -0.58776353],\n",
       "       [-0.17367395, -0.58776353],\n",
       "       [ 0.55333328,  0.56925129],\n",
       "       [-1.14301691, -1.51337539],\n",
       "       [ 0.91683689, -0.35636057],\n",
       "       [-0.7795133 , -0.8191665 ],\n",
       "       [-1.02184904, -2.43898725],\n",
       "       [ 0.06866179, -0.1249576 ],\n",
       "       [ 0.18982966, -1.97618132],\n",
       "       [ 0.31099753, -0.35636057],\n",
       "       [-0.29484182, -0.35636057],\n",
       "       [ 1.03800476,  0.10644536],\n",
       "       [-0.29484182, -0.1249576 ],\n",
       "       [-0.05250608, -0.8191665 ],\n",
       "       [ 0.4321654 , -1.97618132],\n",
       "       [-0.29484182, -1.28197243],\n",
       "       [ 0.06866179,  0.33784833],\n",
       "       [ 0.31099753, -0.58776353],\n",
       "       [ 0.55333328, -1.28197243],\n",
       "       [ 0.31099753, -0.58776353],\n",
       "       [ 0.67450115, -0.35636057],\n",
       "       [ 0.91683689, -0.1249576 ],\n",
       "       [ 1.15917263, -0.58776353],\n",
       "       [ 1.03800476, -0.1249576 ],\n",
       "       [ 0.18982966, -0.35636057],\n",
       "       [-0.17367395, -1.05056946],\n",
       "       [-0.41600969, -1.51337539],\n",
       "       [-0.41600969, -1.51337539],\n",
       "       [-0.05250608, -0.8191665 ],\n",
       "       [ 0.18982966, -0.8191665 ],\n",
       "       [-0.53717756, -0.1249576 ],\n",
       "       [ 0.18982966,  0.80065426],\n",
       "       [ 1.03800476,  0.10644536],\n",
       "       [ 0.55333328, -1.74477836],\n",
       "       [-0.29484182, -0.1249576 ],\n",
       "       [-0.41600969, -1.28197243],\n",
       "       [-0.41600969, -1.05056946],\n",
       "       [ 0.31099753, -0.1249576 ],\n",
       "       [-0.05250608, -1.05056946],\n",
       "       [-1.02184904, -1.74477836],\n",
       "       [-0.29484182, -0.8191665 ],\n",
       "       [-0.17367395, -0.1249576 ],\n",
       "       [-0.17367395, -0.35636057],\n",
       "       [ 0.4321654 , -0.35636057],\n",
       "       [-0.90068117, -1.28197243],\n",
       "       [-0.17367395, -0.58776353],\n",
       "       [ 0.55333328,  0.56925129],\n",
       "       [-0.05250608, -0.8191665 ],\n",
       "       [ 1.52267624, -0.1249576 ],\n",
       "       [ 0.55333328, -0.35636057],\n",
       "       [ 0.79566902, -0.1249576 ],\n",
       "       [ 2.12851559, -0.1249576 ],\n",
       "       [-1.14301691, -1.28197243],\n",
       "       [ 1.76501198, -0.35636057],\n",
       "       [ 1.03800476, -1.28197243],\n",
       "       [ 1.64384411,  1.26346019],\n",
       "       [ 0.79566902,  0.33784833],\n",
       "       [ 0.67450115, -0.8191665 ],\n",
       "       [ 1.15917263, -0.1249576 ],\n",
       "       [-0.17367395, -1.28197243],\n",
       "       [-0.05250608, -0.58776353],\n",
       "       [ 0.67450115,  0.33784833],\n",
       "       [ 0.79566902, -0.1249576 ],\n",
       "       [ 2.24968346,  1.72626612],\n",
       "       [ 2.24968346, -1.05056946],\n",
       "       [ 0.18982966, -1.97618132],\n",
       "       [ 1.2803405 ,  0.33784833],\n",
       "       [-0.29484182, -0.58776353],\n",
       "       [ 2.24968346, -0.58776353],\n",
       "       [ 0.55333328, -0.8191665 ],\n",
       "       [ 1.03800476,  0.56925129],\n",
       "       [ 1.64384411,  0.33784833],\n",
       "       [ 0.4321654 , -0.58776353],\n",
       "       [ 0.31099753, -0.1249576 ],\n",
       "       [ 0.67450115, -0.58776353],\n",
       "       [ 1.64384411, -0.1249576 ],\n",
       "       [ 1.88617985, -0.58776353],\n",
       "       [ 2.4920192 ,  1.72626612],\n",
       "       [ 0.67450115, -0.58776353],\n",
       "       [ 0.55333328, -0.58776353],\n",
       "       [ 0.31099753, -1.05056946],\n",
       "       [ 2.24968346, -0.1249576 ],\n",
       "       [ 0.55333328,  0.80065426],\n",
       "       [ 0.67450115,  0.10644536],\n",
       "       [ 0.18982966, -0.1249576 ],\n",
       "       [ 1.2803405 ,  0.10644536],\n",
       "       [ 1.03800476,  0.10644536],\n",
       "       [ 1.2803405 ,  0.10644536],\n",
       "       [-0.05250608, -0.8191665 ],\n",
       "       [ 1.15917263,  0.33784833],\n",
       "       [ 1.03800476,  0.56925129],\n",
       "       [ 1.03800476, -0.1249576 ],\n",
       "       [ 0.55333328, -1.28197243],\n",
       "       [ 0.79566902, -0.1249576 ],\n",
       "       [ 0.4321654 ,  0.80065426],\n",
       "       [ 0.06866179, -0.1249576 ]])"
      ]
     },
     "metadata": {},
     "execution_count": 5
    }
   ],
   "metadata": {}
  },
  {
   "cell_type": "code",
   "execution_count": 6,
   "source": [
    "data.columns"
   ],
   "outputs": [
    {
     "output_type": "execute_result",
     "data": {
      "text/plain": [
       "Index(['SepalLengthCm', 'SepalWidthCm', 'PetalLengthCm', 'PetalWidthCm',\n",
       "       'Species'],\n",
       "      dtype='object')"
      ]
     },
     "metadata": {},
     "execution_count": 6
    }
   ],
   "metadata": {}
  },
  {
   "cell_type": "code",
   "execution_count": 7,
   "source": [
    "## Divide Train Test Data\r\n",
    "from sklearn.model_selection import train_test_split\r\n",
    "\r\n",
    "xtrain, xtest, ytrain, ytest = train_test_split(\r\n",
    "    scaledX, labeledY, \r\n",
    "    test_size=0.2, random_state=49\r\n",
    ")\r\n",
    "xtrain.shape, ytrain.shape"
   ],
   "outputs": [
    {
     "output_type": "execute_result",
     "data": {
      "text/plain": [
       "((120, 2), (120,))"
      ]
     },
     "metadata": {},
     "execution_count": 7
    }
   ],
   "metadata": {}
  },
  {
   "cell_type": "code",
   "execution_count": 8,
   "source": [
    "## MOdeling\r\n",
    "from sklearn import neighbors\r\n",
    "\r\n",
    "##Initialize\r\n",
    "knn = neighbors.KNeighborsClassifier(n_neighbors=5)\r\n",
    "\r\n",
    "## Training\r\n",
    "knn.fit(xtrain, ytrain)\r\n",
    "\r\n",
    "## Test Prediction\r\n",
    "ypred = knn.predict(xtest)\r\n",
    "\r\n",
    "ypred == ytest, encoder.inverse_transform(ypred)"
   ],
   "outputs": [
    {
     "output_type": "execute_result",
     "data": {
      "text/plain": [
       "(array([ True, False,  True,  True,  True,  True, False, False,  True,\n",
       "         True,  True,  True,  True,  True,  True, False, False,  True,\n",
       "         True,  True,  True, False,  True,  True,  True, False,  True,\n",
       "         True,  True, False]),\n",
       " array(['Iris-versicolor', 'Iris-versicolor', 'Iris-versicolor',\n",
       "        'Iris-virginica', 'Iris-virginica', 'Iris-setosa',\n",
       "        'Iris-versicolor', 'Iris-versicolor', 'Iris-virginica',\n",
       "        'Iris-virginica', 'Iris-setosa', 'Iris-versicolor', 'Iris-setosa',\n",
       "        'Iris-versicolor', 'Iris-versicolor', 'Iris-versicolor',\n",
       "        'Iris-virginica', 'Iris-virginica', 'Iris-virginica',\n",
       "        'Iris-setosa', 'Iris-setosa', 'Iris-virginica', 'Iris-setosa',\n",
       "        'Iris-virginica', 'Iris-setosa', 'Iris-virginica',\n",
       "        'Iris-versicolor', 'Iris-versicolor', 'Iris-setosa',\n",
       "        'Iris-versicolor'], dtype=object))"
      ]
     },
     "metadata": {},
     "execution_count": 8
    }
   ],
   "metadata": {}
  },
  {
   "cell_type": "code",
   "execution_count": 9,
   "source": [
    "## Evaluation\r\n",
    "from sklearn.metrics import confusion_matrix, f1_score\r\n",
    "print('Confusion Matrix: \\n', confusion_matrix(ytest, ypred))\r\n",
    "print('F1 Score: ', f1_score(ytest, ypred, average='weighted'))"
   ],
   "outputs": [
    {
     "output_type": "stream",
     "name": "stdout",
     "text": [
      "Confusion Matrix: \n",
      " [[8 0 0]\n",
      " [0 7 3]\n",
      " [0 5 7]]\n",
      "F1 Score:  0.7333333333333335\n"
     ]
    }
   ],
   "metadata": {}
  },
  {
   "cell_type": "code",
   "execution_count": 10,
   "source": [
    "## Evaluation Plot\r\n",
    "from sklearn.metrics import plot_confusion_matrix\r\n",
    "\r\n",
    "plot_confusion_matrix(knn, xtest, ytest)"
   ],
   "outputs": [
    {
     "output_type": "execute_result",
     "data": {
      "text/plain": [
       "<sklearn.metrics._plot.confusion_matrix.ConfusionMatrixDisplay at 0x22ec7d69310>"
      ]
     },
     "metadata": {},
     "execution_count": 10
    },
    {
     "output_type": "display_data",
     "data": {
      "image/png": "[encoded data removed]",
      "text/plain": [
       "<Figure size 432x288 with 2 Axes>"
      ]
     },
     "metadata": {
      "needs_background": "light"
     }
    }
   ],
   "metadata": {}
  },
  {
   "cell_type": "code",
   "execution_count": 11,
   "source": [
    "data.head(), data[['Species']].value_counts()"
   ],
   "outputs": [
    {
     "output_type": "execute_result",
     "data": {
      "text/plain": [
       "(   SepalLengthCm  SepalWidthCm  PetalLengthCm  PetalWidthCm      Species\n",
       " 0            5.1           3.5            1.4           0.2  Iris-setosa\n",
       " 1            4.9           3.0            1.4           0.2  Iris-setosa\n",
       " 2            4.7           3.2            1.3           0.2  Iris-setosa\n",
       " 3            4.6           3.1            1.5           0.2  Iris-setosa\n",
       " 4            5.0           3.6            1.4           0.2  Iris-setosa,\n",
       " Species        \n",
       " Iris-setosa        50\n",
       " Iris-versicolor    50\n",
       " Iris-virginica     50\n",
       " dtype: int64)"
      ]
     },
     "metadata": {},
     "execution_count": 11
    }
   ],
   "metadata": {}
  },
  {
   "cell_type": "code",
   "execution_count": 12,
   "source": [
    "setosa = data[data['Species'] == 'Iris-setosa']\r\n",
    "versicolor = data[data['Species'] == 'Iris-versicolor']\r\n",
    "virginica = data[data['Species'] == 'Iris-virginica']"
   ],
   "outputs": [],
   "metadata": {}
  },
  {
   "cell_type": "code",
   "execution_count": 13,
   "source": [
    "fig, axes = plt.subplots(1,1, figsize=(20,10))\r\n",
    "axes.scatter(setosa[['SepalLengthCm']], setosa[['SepalWidthCm']], label = 'Iris-Setosa')\r\n",
    "axes.scatter(versicolor[['SepalLengthCm']], versicolor[['SepalWidthCm']], label = 'Iris-Versicolor')\r\n",
    "axes.scatter(virginica[['SepalLengthCm']], virginica[['SepalWidthCm']], label = 'Iris-Virginica')\r\n",
    "plt.legend()\r\n",
    "plt.show()"
   ],
   "outputs": [
    {
     "output_type": "display_data",
     "data": {
      "image/png": "[encoded data removed]",
      "text/plain": [
       "<Figure size 1440x720 with 1 Axes>"
      ]
     },
     "metadata": {
      "needs_background": "light"
     }
    }
   ],
   "metadata": {}
  },
  {
   "cell_type": "code",
   "execution_count": 14,
   "source": [
    "## Task "
   ],
   "outputs": [],
   "metadata": {}
  },
  {
   "cell_type": "code",
   "execution_count": 15,
   "source": [
    "## Finding Best K through Hyperparameter tuning\r\n",
    "from sklearn import model_selection\r\n",
    "gridknn = neighbors.KNeighborsClassifier()\r\n",
    "\r\n",
    "##\r\n",
    "grid = model_selection.GridSearchCV(\r\n",
    "    gridknn,\r\n",
    "    param_grid={\r\n",
    "        'n_neighbors': list(range(5, 30,3)),\r\n",
    "        'weights': ['uniform', 'distance']\r\n",
    "    },cv=5, n_jobs=-1, scoring='accuracy'\r\n",
    ")\r\n",
    "grid.fit(xtrain, ytrain)"
   ],
   "outputs": [
    {
     "output_type": "execute_result",
     "data": {
      "text/plain": [
       "GridSearchCV(cv=5, estimator=KNeighborsClassifier(), n_jobs=-1,\n",
       "             param_grid={'n_neighbors': [5, 8, 11, 14, 17, 20, 23, 26, 29],\n",
       "                         'weights': ['uniform', 'distance']},\n",
       "             scoring='accuracy')"
      ]
     },
     "metadata": {},
     "execution_count": 15
    }
   ],
   "metadata": {}
  },
  {
   "cell_type": "code",
   "execution_count": 17,
   "source": [
    "grid.best_params_, grid.best_estimator_"
   ],
   "outputs": [
    {
     "output_type": "execute_result",
     "data": {
      "text/plain": [
       "({'n_neighbors': 23, 'weights': 'uniform'},\n",
       " KNeighborsClassifier(n_neighbors=23))"
      ]
     },
     "metadata": {},
     "execution_count": 17
    }
   ],
   "metadata": {}
  },
  {
   "cell_type": "code",
   "execution_count": 39,
   "source": [
    "## Visualize Model\r\n",
    "finalknn = grid.best_estimator_\r\n",
    "finalknn.fit(xtrain, ytrain)\r\n",
    "\r\n",
    "##\r\n",
    "xmin, xmax = xtrain[:, 0].min(), xtrain[:, 0].max()\r\n",
    "ymin, ymax = xtrain[:, 1].min(), xtrain[:, 1].max()\r\n",
    "xmin, xmax, ymin, ymax\r\n",
    "\r\n",
    "xx, yy = np.meshgrid(\r\n",
    "    np.arange(xmin, xmax, 0.2), np.arange(ymin, ymax, 0.2)\r\n",
    ")\r\n",
    "# np.c_[xx.ravel(), yy.ravel()]\r\n",
    "yhat = finalknn.predict(np.c_[xx.ravel(), yy.ravel()])\r\n",
    "yhat.shape, xx.shape\r\n",
    "##\r\n",
    "yhat = yhat.reshape(xx.shape)\r\n",
    "yhat.shape\r\n",
    "\r\n",
    "## Plotting\r\n",
    "plt.figure(1, figsize=(20,10))\r\n",
    "plt.set_cmap(plt.cm.Paired)\r\n",
    "plt.pcolormesh(xx, yy, yhat, shading='auto')\r\n",
    "\r\n",
    "plt.scatter(scaledX[:,0], scaledX[:, 1], c = labeledY, edgecolors='black')\r\n",
    "plt.xlim(xx.min(), xx.max())\r\n",
    "plt.ylim(yy.min(), yy.max())\r\n",
    "plt.show()"
   ],
   "outputs": [
    {
     "output_type": "display_data",
     "data": {
      "image/png": "[encoded data removed]",
      "text/plain": [
       "<Figure size 1440x720 with 1 Axes>"
      ]
     },
     "metadata": {
      "needs_background": "light"
     }
    }
   ],
   "metadata": {}
  },
  {
   "cell_type": "code",
   "execution_count": null,
   "source": [],
   "outputs": [],
   "metadata": {}
  }
 ],
 "metadata": {
  "orig_nbformat": 4,
  "language_info": {
   "name": "python",
   "version": "3.9.7",
   "mimetype": "text/x-python",
   "codemirror_mode": {
    "name": "ipython",
    "version": 3
   },
   "pygments_lexer": "ipython3",
   "nbconvert_exporter": "python",
   "file_extension": ".py"
  },
  "kernelspec": {
   "name": "python3",
   "display_name": "Python 3.9.7 64-bit"
  },
  "interpreter": {
   "hash": "14a336a61cfaefff504b47e2b8e6e50961f0feafa7b211f8ff23081790c52144"
  }
 },
 "nbformat": 4,
 "nbformat_minor": 2
}