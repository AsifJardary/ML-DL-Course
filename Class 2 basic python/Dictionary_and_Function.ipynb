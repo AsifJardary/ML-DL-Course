{
  "cells": [
    {
      "cell_type": "markdown",
      "source": [
        "## Dictionary"
      ],
      "metadata": {
        "id": "H3RaGxYYbDux"
      }
    },
    {
      "cell_type": "code",
      "execution_count": null,
      "source": [
        "d = {1:\"John\",2:\"Alexa\", 3:\"Johny\"}\n",
        "d"
      ],
      "outputs": [
        {
          "output_type": "execute_result",
          "data": {
            "text/plain": [
              "{1: 'John', 2: 'Alexa', 3: 'Johny'}"
            ]
          },
          "metadata": {},
          "execution_count": 24
        }
      ],
      "metadata": {
        "id": "zeNP8CGlbDux",
        "outputId": "2eda84a4-b830-4d27-ce24-a57eec8e04ac"
      }
    },
    {
      "cell_type": "code",
      "execution_count": null,
      "source": [
        "print(d[2])"
      ],
      "outputs": [
        {
          "output_type": "stream",
          "name": "stdout",
          "text": [
            "Alexa\n"
          ]
        }
      ],
      "metadata": {
        "id": "u_bA81b8bDux",
        "outputId": "00a8c1dc-d918-4b7a-d79f-6ec5933435a4"
      }
    },
    {
      "cell_type": "code",
      "execution_count": null,
      "source": [
        "ages = {\"John\":23, \"Alexa\":22}\n",
        "ages"
      ],
      "outputs": [
        {
          "output_type": "execute_result",
          "data": {
            "text/plain": [
              "{'John': 23, 'Alexa': 22}"
            ]
          },
          "metadata": {},
          "execution_count": 28
        }
      ],
      "metadata": {
        "id": "9Vh1pbpXbDuy",
        "outputId": "a8ae24af-825c-4316-ee67-e858abb383fd"
      }
    },
    {
      "cell_type": "code",
      "execution_count": null,
      "source": [
        "ages[\"Alexa\"]"
      ],
      "outputs": [
        {
          "output_type": "execute_result",
          "data": {
            "text/plain": [
              "22"
            ]
          },
          "metadata": {},
          "execution_count": 29
        }
      ],
      "metadata": {
        "id": "0Os3JWkAbDuz",
        "outputId": "ee2f190a-3b80-43ae-fd54-6eb6142ddccf"
      }
    },
    {
      "cell_type": "code",
      "execution_count": null,
      "source": [
        "ages[\"Alexa\"] = 23\n",
        "ages"
      ],
      "outputs": [
        {
          "output_type": "execute_result",
          "data": {
            "text/plain": [
              "{'John': 23, 'Alexa': 23}"
            ]
          },
          "metadata": {},
          "execution_count": 30
        }
      ],
      "metadata": {
        "id": "ji83vCgIbDuz",
        "outputId": "54108a88-aafe-4837-f9d4-a50bb617b305"
      }
    },
    {
      "cell_type": "code",
      "execution_count": null,
      "source": [
        "scores = {\"John\":[[23,56],98], \"Alexa\":[22,98,77]}\n",
        "scores"
      ],
      "outputs": [
        {
          "output_type": "execute_result",
          "data": {
            "text/plain": [
              "{'John': [[23, 56], 98], 'Alexa': [22, 98, 77]}"
            ]
          },
          "metadata": {},
          "execution_count": 36
        }
      ],
      "metadata": {
        "id": "kDyY7g-wbDuz",
        "outputId": "06770406-1c99-410f-f244-87a18a3af805"
      }
    },
    {
      "cell_type": "code",
      "execution_count": null,
      "source": [
        "scores[\"Joh\"]"
      ],
      "outputs": [
        {
          "output_type": "error",
          "ename": "KeyError",
          "evalue": "'Joh'",
          "traceback": [
            "\u001b[1;31m---------------------------------------------------------------------------\u001b[0m",
            "\u001b[1;31mKeyError\u001b[0m                                  Traceback (most recent call last)",
            "\u001b[1;32m<ipython-input-40-19677f184c98>\u001b[0m in \u001b[0;36m<module>\u001b[1;34m\u001b[0m\n\u001b[1;32m----> 1\u001b[1;33m \u001b[0mscores\u001b[0m\u001b[1;33m[\u001b[0m\u001b[1;34m\"Joh\"\u001b[0m\u001b[1;33m]\u001b[0m\u001b[1;33m\u001b[0m\u001b[1;33m\u001b[0m\u001b[0m\n\u001b[0m",
            "\u001b[1;31mKeyError\u001b[0m: 'Joh'"
          ]
        }
      ],
      "metadata": {
        "id": "NOEADQyvbDu0",
        "outputId": "6868b449-9573-4181-de95-eabe491e6ea5"
      }
    },
    {
      "cell_type": "code",
      "execution_count": null,
      "source": [
        "scores.get(\"Joh\")"
      ],
      "outputs": [],
      "metadata": {
        "id": "lGa5M44QbDu0"
      }
    },
    {
      "cell_type": "code",
      "execution_count": null,
      "source": [
        "scores.keys()"
      ],
      "outputs": [
        {
          "output_type": "execute_result",
          "data": {
            "text/plain": [
              "dict_keys(['John', 'Alexa'])"
            ]
          },
          "metadata": {},
          "execution_count": 43
        }
      ],
      "metadata": {
        "id": "DBs8uDRjbDu0",
        "outputId": "1bd46ed1-bbf7-4a05-f667-023375e42c9e"
      }
    },
    {
      "cell_type": "code",
      "execution_count": null,
      "source": [
        "scores.values()"
      ],
      "outputs": [
        {
          "output_type": "execute_result",
          "data": {
            "text/plain": [
              "dict_values([[[23, 56], 98], [22, 98, 77]])"
            ]
          },
          "metadata": {},
          "execution_count": 44
        }
      ],
      "metadata": {
        "id": "NPLPSuASbDu1",
        "outputId": "84803bed-04a4-4451-eec9-0a5463d1613a"
      }
    },
    {
      "cell_type": "code",
      "execution_count": null,
      "source": [
        "scores.items()"
      ],
      "outputs": [
        {
          "output_type": "execute_result",
          "data": {
            "text/plain": [
              "dict_items([('John', [[23, 56], 98]), ('Alexa', [22, 98, 77])])"
            ]
          },
          "metadata": {},
          "execution_count": 45
        }
      ],
      "metadata": {
        "id": "mL0mccUebDu1",
        "outputId": "28032b38-098a-4905-e912-0d28f8973e05"
      }
    },
    {
      "cell_type": "code",
      "execution_count": null,
      "source": [
        "for key, val in scores.items():\n",
        "    print(key, val)"
      ],
      "outputs": [
        {
          "output_type": "stream",
          "name": "stdout",
          "text": [
            "John [[23, 56], 98]\n",
            "Alexa [22, 98, 77]\n"
          ]
        }
      ],
      "metadata": {
        "id": "5F2fBl23bDu1",
        "outputId": "26dd71cb-110d-4c6f-ee8e-a4b31a983fc8"
      }
    },
    {
      "cell_type": "code",
      "execution_count": null,
      "source": [
        "for val in scores.values():\n",
        "    print(val)"
      ],
      "outputs": [
        {
          "output_type": "stream",
          "name": "stdout",
          "text": [
            "[[23, 56], 98]\n",
            "[22, 98, 77]\n"
          ]
        }
      ],
      "metadata": {
        "id": "n-O0aoNcbDu2",
        "outputId": "0e59cd8e-b765-4bdd-868e-9263d567b56f"
      }
    },
    {
      "cell_type": "code",
      "execution_count": null,
      "source": [
        "for key in scores.keys():\n",
        "    print(key)"
      ],
      "outputs": [
        {
          "output_type": "stream",
          "name": "stdout",
          "text": [
            "John\n",
            "Alexa\n"
          ]
        }
      ],
      "metadata": {
        "id": "6zTUss1KbDu2",
        "outputId": "591a4461-be73-4927-85c8-eb2f0925cef3"
      }
    },
    {
      "cell_type": "code",
      "execution_count": null,
      "source": [
        "for val in scores:\n",
        "    print(val)"
      ],
      "outputs": [
        {
          "output_type": "stream",
          "name": "stdout",
          "text": [
            "John\n",
            "Alexa\n"
          ]
        }
      ],
      "metadata": {
        "id": "RQR2FfnnbDu2",
        "outputId": "d8051c42-5e86-4b5f-9775-6313ff11428e"
      }
    },
    {
      "cell_type": "markdown",
      "source": [
        "# Function"
      ],
      "metadata": {
        "id": "2jwbl5vRbDu3"
      }
    },
    {
      "cell_type": "code",
      "execution_count": null,
      "source": [
        "def create_acc():\n",
        "    print(\"Verifying Account!\")\n",
        "    print(\"Creating Account!\")\n",
        "    print(\"Created Account!\")"
      ],
      "outputs": [],
      "metadata": {
        "id": "sItRS6kJbDu3"
      }
    },
    {
      "cell_type": "code",
      "execution_count": null,
      "source": [
        "create_acc()"
      ],
      "outputs": [
        {
          "output_type": "stream",
          "name": "stdout",
          "text": [
            "Verifying Account!\n",
            "Creating Account!\n",
            "Created Account!\n"
          ]
        }
      ],
      "metadata": {
        "id": "LEy8v0c9bDu3",
        "outputId": "665415be-7504-4f24-95b0-68bb7fd2f6b6"
      }
    },
    {
      "cell_type": "code",
      "execution_count": null,
      "source": [
        "def calc_grade(grade):\n",
        "    if (grade>100):\n",
        "        print(\"Invalid Grade!\")\n",
        "    elif(grade >= 91) and (grade<=100):\n",
        "        print(f\"{grade} AA\")\n",
        "    elif (grade>=76) and (grade<=90):\n",
        "        print(f\"{grade} A+\")\n",
        "    elif (grade>=61) and (grade<=75):\n",
        "        print(f\"{grade} A\")\n",
        "    elif (grade>=46) and (grade<=61):\n",
        "        print(f\"{grade} B\")\n",
        "    elif (grade>=31) and (grade<=45):\n",
        "        print(f\"{grade}C\")\n",
        "    else:\n",
        "        print(f\"{grade}Failed! :(\")"
      ],
      "outputs": [],
      "metadata": {
        "id": "RRtuLizdbDu3"
      }
    },
    {
      "cell_type": "code",
      "execution_count": null,
      "source": [
        "calc_grade(78.5)"
      ],
      "outputs": [
        {
          "output_type": "stream",
          "name": "stdout",
          "text": [
            "78.5 A+\n"
          ]
        }
      ],
      "metadata": {
        "id": "mwi6P8wtbDu4",
        "outputId": "a81bc95d-8891-48f5-bcc8-e2366dec600a"
      }
    },
    {
      "cell_type": "code",
      "execution_count": null,
      "source": [
        "calc_grade(88.5)"
      ],
      "outputs": [
        {
          "output_type": "stream",
          "name": "stdout",
          "text": [
            "88.5 A+\n"
          ]
        }
      ],
      "metadata": {
        "id": "Rx-nQtdGbDu4",
        "outputId": "4e5495e7-c5d8-4621-d346-9c64212866eb"
      }
    },
    {
      "cell_type": "code",
      "execution_count": null,
      "source": [
        "def calc_grade(sub1, sub2, sub3):\n",
        "    grade = (sub1 + sub2 + sub3) / 3\n",
        "    if (grade>100):\n",
        "        print(\"Invalid Grade!\")\n",
        "    elif(grade >= 91) and (grade<=100):\n",
        "        print(f\"{grade} AA\")\n",
        "    elif (grade>=76) and (grade<=90):\n",
        "        print(f\"{grade} A+\")\n",
        "    elif (grade>=61) and (grade<=75):\n",
        "        print(f\"{grade} A\")\n",
        "    elif (grade>=46) and (grade<=61):\n",
        "        print(f\"{grade} B\")\n",
        "    elif (grade>=31) and (grade<=45):\n",
        "        print(f\"{grade}C\")\n",
        "    else:\n",
        "        print(f\"{grade}Failed! :(\")"
      ],
      "outputs": [],
      "metadata": {
        "id": "FRKBlArabDu4"
      }
    },
    {
      "cell_type": "code",
      "execution_count": null,
      "source": [
        "calc_grade(45, 67, 98)"
      ],
      "outputs": [
        {
          "output_type": "stream",
          "name": "stdout",
          "text": [
            "67 A\n"
          ]
        }
      ],
      "metadata": {
        "id": "y3GTvs2lbDu5",
        "outputId": "a96e02cc-5417-4647-b6c3-3f6a198134ae"
      }
    },
    {
      "cell_type": "code",
      "execution_count": null,
      "source": [
        "def calc_grade(sub1,sub4, sub3, sub2= 60):\n",
        "    grade = int((sub1 + sub2 + sub3+ sub4) / 4)\n",
        "    if (grade>100):\n",
        "        print(\"Invalid Grade!\")\n",
        "    elif(grade >= 91) and (grade<=100):\n",
        "        print(f\"{grade} AA\")\n",
        "    elif (grade>=76) and (grade<=90):\n",
        "        print(f\"{grade} A+\")\n",
        "    elif (grade>=61) and (grade<=75):\n",
        "        print(f\"{grade} A\")\n",
        "    elif (grade>=46) and (grade<=61):\n",
        "        print(f\"{grade} B\")\n",
        "    elif (grade>=31) and (grade<=45):\n",
        "        print(f\"{grade}C\")\n",
        "    else:\n",
        "        print(f\"{grade}Failed! :(\")"
      ],
      "outputs": [],
      "metadata": {
        "id": "ewGtvUjKbDu7"
      }
    },
    {
      "cell_type": "code",
      "execution_count": null,
      "source": [
        "calc_grade(65,78,98,56)"
      ],
      "outputs": [
        {
          "output_type": "stream",
          "name": "stdout",
          "text": [
            "74 A\n"
          ]
        }
      ],
      "metadata": {
        "id": "mjFtam8fbDu8",
        "outputId": "5806e655-ea36-4d6c-fdcc-799895de9c9c"
      }
    },
    {
      "cell_type": "code",
      "execution_count": null,
      "source": [],
      "outputs": [],
      "metadata": {
        "id": "LF02-_I9bDu8"
      }
    }
  ],
  "metadata": {
    "interpreter": {
      "hash": "5e02d0efff813a9368c354e505ea65821711dca306094a6f79d155d3e22f7a88"
    },
    "kernelspec": {
      "name": "python3",
      "display_name": "Python 3.9.5 64-bit"
    },
    "language_info": {
      "codemirror_mode": {
        "name": "ipython",
        "version": 3
      },
      "file_extension": ".py",
      "mimetype": "text/x-python",
      "name": "python",
      "nbconvert_exporter": "python",
      "pygments_lexer": "ipython3",
      "version": "3.9.5"
    },
    "orig_nbformat": 4,
    "colab": {
      "provenance": []
    }
  },
  "nbformat": 4,
  "nbformat_minor": 0
}