{
  "cells": [
    {
      "cell_type": "markdown",
      "source": [
        "# Types Of Operators\n",
        "* Arithmetic [+, -, *, /, %, **, //]\n",
        "* Conditional Operators [==, !=, <, >, <=, >=]\n",
        "* Logical [and, or, not]\n",
        "* Bitwise Operators [&, |, ~, ^, <<, >>]\n",
        "* Assignment Operators [=, +=, -=, *=, /=, **=, %=, //=]\n",
        "* Special Operators [is , is not, in]"
      ],
      "metadata": {
        "id": "G_4KaINCZffG"
      }
    },
    {
      "cell_type": "code",
      "execution_count": null,
      "source": [
        "5+2"
      ],
      "outputs": [],
      "metadata": {
        "id": "f8ANfbRwZffH"
      }
    },
    {
      "cell_type": "code",
      "execution_count": null,
      "source": [
        "5-2"
      ],
      "outputs": [],
      "metadata": {
        "id": "TmSEv3lUZffP"
      }
    },
    {
      "cell_type": "code",
      "execution_count": null,
      "source": [
        "5*2"
      ],
      "outputs": [],
      "metadata": {
        "id": "EyS2SDlRZffQ"
      }
    },
    {
      "cell_type": "code",
      "execution_count": null,
      "source": [
        "5/2"
      ],
      "outputs": [],
      "metadata": {
        "id": "-IO7eWfnZffR"
      }
    },
    {
      "cell_type": "code",
      "execution_count": null,
      "source": [
        "5//2"
      ],
      "outputs": [],
      "metadata": {
        "id": "_9LrsM5IZffR"
      }
    },
    {
      "cell_type": "code",
      "execution_count": null,
      "source": [
        "5%2"
      ],
      "outputs": [],
      "metadata": {
        "id": "93hoNPouZffS"
      }
    },
    {
      "cell_type": "code",
      "execution_count": null,
      "source": [
        "5**3"
      ],
      "outputs": [],
      "metadata": {
        "id": "Sd5HSkCcZffS"
      }
    },
    {
      "cell_type": "code",
      "execution_count": null,
      "source": [
        "5>2"
      ],
      "outputs": [],
      "metadata": {
        "id": "0NslMc6UZffT"
      }
    },
    {
      "cell_type": "code",
      "execution_count": null,
      "source": [
        "5 >= 5"
      ],
      "outputs": [],
      "metadata": {
        "id": "7ehYS-LbZffU"
      }
    },
    {
      "cell_type": "code",
      "execution_count": null,
      "source": [
        "5<2"
      ],
      "outputs": [],
      "metadata": {
        "id": "cpblT1qmZffU"
      }
    },
    {
      "cell_type": "code",
      "execution_count": null,
      "source": [
        "5 <= 5"
      ],
      "outputs": [],
      "metadata": {
        "id": "JbyZ7oRHZffV"
      }
    },
    {
      "cell_type": "code",
      "execution_count": null,
      "source": [
        "5 == 2"
      ],
      "outputs": [],
      "metadata": {
        "id": "J6Yeb11dZffV"
      }
    },
    {
      "cell_type": "code",
      "execution_count": null,
      "source": [
        "5 == 5"
      ],
      "outputs": [],
      "metadata": {
        "id": "h3MGgxE4ZffW"
      }
    },
    {
      "cell_type": "code",
      "execution_count": null,
      "source": [
        "5 != 2"
      ],
      "outputs": [],
      "metadata": {
        "id": "gssqX0_4ZffX"
      }
    },
    {
      "cell_type": "code",
      "execution_count": null,
      "source": [],
      "outputs": [],
      "metadata": {
        "id": "rGPP8H5xZffa"
      }
    },
    {
      "cell_type": "code",
      "execution_count": null,
      "source": [
        "True and False"
      ],
      "outputs": [],
      "metadata": {
        "id": "P9L6E6T4Zffa"
      }
    },
    {
      "cell_type": "code",
      "execution_count": null,
      "source": [
        "True and True"
      ],
      "outputs": [],
      "metadata": {
        "id": "yh5EDB5tZffb"
      }
    },
    {
      "cell_type": "code",
      "execution_count": null,
      "source": [
        "False and False"
      ],
      "outputs": [],
      "metadata": {
        "id": "fjh15-qWZffc"
      }
    },
    {
      "cell_type": "code",
      "execution_count": null,
      "source": [
        "True or False"
      ],
      "outputs": [],
      "metadata": {
        "id": "1LqhXPTCZffc"
      }
    },
    {
      "cell_type": "code",
      "execution_count": null,
      "source": [
        "False or False"
      ],
      "outputs": [],
      "metadata": {
        "id": "XtnUb4aPZffd"
      }
    },
    {
      "cell_type": "code",
      "execution_count": null,
      "source": [
        "not True"
      ],
      "outputs": [],
      "metadata": {
        "id": "h0sfE1u3Zffg"
      }
    },
    {
      "cell_type": "code",
      "execution_count": null,
      "source": [
        "not False"
      ],
      "outputs": [],
      "metadata": {
        "id": "iePFTH35Zffh"
      }
    },
    {
      "cell_type": "code",
      "execution_count": null,
      "source": [
        "5 & 3"
      ],
      "outputs": [],
      "metadata": {
        "id": "BDQrXVr1Zffi"
      }
    },
    {
      "cell_type": "code",
      "execution_count": null,
      "source": [
        "5 | 2"
      ],
      "outputs": [],
      "metadata": {
        "id": "XEa8vxqBZffj"
      }
    },
    {
      "cell_type": "code",
      "execution_count": null,
      "source": [
        "~5"
      ],
      "outputs": [],
      "metadata": {
        "id": "0HHbiyLJZffj"
      }
    },
    {
      "cell_type": "code",
      "execution_count": null,
      "source": [
        "2<<2\n",
        "# 0010\n",
        "# 0100\n",
        "# 1000"
      ],
      "outputs": [],
      "metadata": {
        "id": "A8GxRetLZffk"
      }
    },
    {
      "cell_type": "code",
      "execution_count": null,
      "source": [
        "2>>2\n",
        "# 0010\n",
        "# 0001\n",
        "# 1000"
      ],
      "outputs": [],
      "metadata": {
        "id": "gD6E57p6Zffl"
      }
    },
    {
      "cell_type": "code",
      "execution_count": null,
      "source": [
        "~(5^2)\n",
        "# 101\n",
        "# 010\n",
        "# ---\n",
        "# 111\n"
      ],
      "outputs": [],
      "metadata": {
        "id": "-zaWUO7aZffl"
      }
    },
    {
      "cell_type": "code",
      "execution_count": null,
      "source": [
        "a = 4\n",
        "b = 2\n",
        "a+b"
      ],
      "outputs": [],
      "metadata": {
        "id": "yKlzRLO2Zffm"
      }
    },
    {
      "cell_type": "code",
      "execution_count": null,
      "source": [
        "# a = a+b\n",
        "a += b\n",
        "a"
      ],
      "outputs": [],
      "metadata": {
        "id": "BeIaLZkBZffn"
      }
    },
    {
      "cell_type": "code",
      "execution_count": null,
      "source": [
        "a *= b\n",
        "a"
      ],
      "outputs": [],
      "metadata": {
        "id": "pstzdPCMZffn"
      }
    },
    {
      "cell_type": "code",
      "execution_count": null,
      "source": [
        "# in, is , not in\n",
        "\"h\" in \"Happy\""
      ],
      "outputs": [],
      "metadata": {
        "id": "dUc2Z0mEZffp"
      }
    },
    {
      "cell_type": "code",
      "execution_count": null,
      "source": [
        "\"C\" not in \"Happy\""
      ],
      "outputs": [],
      "metadata": {
        "id": "jbp6qAcJZffq"
      }
    },
    {
      "cell_type": "code",
      "execution_count": null,
      "source": [
        "a = 2\n",
        "b = 2\n",
        "a is b"
      ],
      "outputs": [],
      "metadata": {
        "id": "rX5K0Y_mZffv"
      }
    },
    {
      "cell_type": "markdown",
      "source": [],
      "metadata": {
        "id": "XEVHKrigZffw"
      }
    },
    {
      "cell_type": "code",
      "execution_count": null,
      "source": [],
      "outputs": [],
      "metadata": {
        "id": "AfTPbukRZffw"
      }
    },
    {
      "cell_type": "markdown",
      "source": [
        "# Conditional Statements\n",
        "* if\n",
        "* elif\n",
        "* else"
      ],
      "metadata": {
        "id": "cqdTq72UZffx"
      }
    },
    {
      "cell_type": "code",
      "execution_count": null,
      "source": [
        "age = int(input(\"Enter your age: \"))\n",
        "if (age > 17) and (age<60):\n",
        "    print(\"You are eligible for Major Acc!\")\n",
        "else:\n",
        "    print(\"Not eligible for Major Acc\")"
      ],
      "outputs": [],
      "metadata": {
        "id": "vwVYwREGZffy"
      }
    },
    {
      "cell_type": "code",
      "execution_count": null,
      "source": [
        "age = 21\n",
        "salary = 10000\n",
        "if (age > 17) and (age<60):\n",
        "    if salary >= 20000:\n",
        "        print(\"Gold Card\")\n",
        "    else:\n",
        "        print(\"Platinum Card\")\n",
        "    print(\"You are eligible for Major Acc!\")\n",
        "elif (age > 12) and (age<18):\n",
        "    print(\" eligible for Minor Acc\")\n",
        "else:\n",
        "    print(\"Not eligible for Any Acc\")"
      ],
      "outputs": [],
      "metadata": {
        "id": "UJVwaf-fZffz"
      }
    },
    {
      "cell_type": "code",
      "execution_count": null,
      "source": [
        "is_raining = input(\"Raining? yes/no \").lower()\n",
        "if is_raining == \"yes\":\n",
        "    print(\"Want to eat hotchpotch!\")\n",
        "else:\n",
        "    print(\"Ice Cream!\")"
      ],
      "outputs": [],
      "metadata": {
        "id": "tZBAN-zWZff0"
      }
    },
    {
      "cell_type": "code",
      "execution_count": null,
      "source": [
        "# Create a Program to give grade to student's score\n",
        "#  AA(91-100),A+(76-90), A(61-75), B(46-61),C(31-45),D\n",
        "grade = 1\n",
        "total = 0\n",
        "while grade <= 6:\n",
        "    g =  int(input(\"Enter your grade: \"))\n",
        "    if g > 100:\n",
        "        print(\"Invaid Grade\")\n",
        "        continue\n",
        "    total += g\n",
        "    grade += 1\n",
        "grade = total//6\n",
        "if (grade>100):\n",
        "    print(\"Invalid Grade!\")\n",
        "elif(grade >= 91) and (grade<=100):\n",
        "    print(f\"{grade} AA\")\n",
        "elif (grade>=76) and (grade<=90):\n",
        "    print(f\"{grade} A+\")\n",
        "elif (grade>=61) and (grade<=75):\n",
        "    print(f\"{grade} A\")\n",
        "elif (grade>=46) and (grade<=61):\n",
        "    print(f\"{grade} B\")\n",
        "elif (grade>=31) and (grade<=45):\n",
        "    print(f\"{grade}C\")\n",
        "else:\n",
        "    print(f\"{grade}Failed! :(\")"
      ],
      "outputs": [],
      "metadata": {
        "id": "I2g9t6NWZff0"
      }
    },
    {
      "cell_type": "code",
      "execution_count": null,
      "source": [],
      "outputs": [],
      "metadata": {
        "id": "fRJ1ZIHkZff1"
      }
    }
  ],
  "metadata": {
    "interpreter": {
      "hash": "5e02d0efff813a9368c354e505ea65821711dca306094a6f79d155d3e22f7a88"
    },
    "kernelspec": {
      "name": "python3",
      "display_name": "Python 3.9.5 64-bit"
    },
    "language_info": {
      "codemirror_mode": {
        "name": "ipython",
        "version": 3
      },
      "file_extension": ".py",
      "mimetype": "text/x-python",
      "name": "python",
      "nbconvert_exporter": "python",
      "pygments_lexer": "ipython3",
      "version": "3.9.5"
    },
    "orig_nbformat": 4,
    "colab": {
      "provenance": []
    }
  },
  "nbformat": 4,
  "nbformat_minor": 0
}