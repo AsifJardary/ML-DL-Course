{
  "cells": [
    {
      "cell_type": "code",
      "execution_count": null,
      "source": [
        "low = 1\n",
        "up = 5\n",
        "\n",
        "while low <= up:\n",
        "    print(low)\n",
        "    low = low + 1"
      ],
      "outputs": [],
      "metadata": {
        "id": "hATf4gnVaKYH"
      }
    },
    {
      "cell_type": "code",
      "execution_count": null,
      "source": [
        "low = 1\n",
        "up = 5\n",
        "\n",
        "while low <= up:\n",
        "    print(low)\n",
        "    low += 1"
      ],
      "outputs": [],
      "metadata": {
        "id": "VnyXzdBsaKYI"
      }
    },
    {
      "cell_type": "code",
      "execution_count": null,
      "source": [
        "low = 1\n",
        "up = 5\n",
        "\n",
        "while low <= up:\n",
        "    if low%2 == 0:\n",
        "        print(low)\n",
        "    low += 2"
      ],
      "outputs": [],
      "metadata": {
        "id": "aXcb477iaKYI"
      }
    },
    {
      "cell_type": "code",
      "execution_count": null,
      "source": [
        "low = 1\n",
        "up = 5\n",
        "\n",
        "while low <= up:\n",
        "    if low%2 != 0:\n",
        "        print(low)\n",
        "    low += 1"
      ],
      "outputs": [],
      "metadata": {
        "id": "Sugq5CMoaKYI"
      }
    },
    {
      "cell_type": "code",
      "execution_count": null,
      "source": [
        "word = \"Python\"\n",
        "l = len(word)\n",
        "word[1:5:3]"
      ],
      "outputs": [],
      "metadata": {
        "id": "mE3z5N_iaKYI"
      }
    },
    {
      "cell_type": "code",
      "execution_count": null,
      "source": [
        "word = \"Python\"\n",
        "l = len(word)\n",
        "print(l)\n",
        "index = 0\n",
        "while index <= l-1:\n",
        "    # word[0] word[1]  word[2]\n",
        "    print(word[index], end=\"\")\n",
        "    index += 1"
      ],
      "outputs": [],
      "metadata": {
        "id": "fXtX_M7UaKYJ"
      }
    },
    {
      "cell_type": "markdown",
      "source": [
        "# For Loop"
      ],
      "metadata": {
        "id": "HCiOAekVaKYJ"
      }
    },
    {
      "cell_type": "code",
      "execution_count": null,
      "source": [
        "list(range(1,6))"
      ],
      "outputs": [],
      "metadata": {
        "id": "FWCDVgF8aKYJ"
      }
    },
    {
      "cell_type": "code",
      "execution_count": null,
      "source": [
        "for num in range(1,6):\n",
        "    if num%2 ==0:\n",
        "        print(num)"
      ],
      "outputs": [],
      "metadata": {
        "id": "ih_0ZH9KaKYK"
      }
    },
    {
      "cell_type": "code",
      "execution_count": null,
      "source": [
        "for num in range(1,6,2):\n",
        "    print(num)"
      ],
      "outputs": [],
      "metadata": {
        "id": "9XVwLEvcaKYK"
      }
    },
    {
      "cell_type": "code",
      "execution_count": null,
      "source": [
        "for num in range(5,0,-1):\n",
        "    print(num)"
      ],
      "outputs": [],
      "metadata": {
        "id": "UMJB2HBXaKYK"
      }
    },
    {
      "cell_type": "code",
      "execution_count": null,
      "source": [
        "word = \"Python\"\n",
        "word[::-1]"
      ],
      "outputs": [],
      "metadata": {
        "id": "gjmF_kIkaKYL"
      }
    },
    {
      "cell_type": "code",
      "execution_count": null,
      "source": [
        "for alpha in \"Python\"[::-1][:3]:\n",
        "    print(alpha)"
      ],
      "outputs": [],
      "metadata": {
        "id": "MB1703I5aKYL"
      }
    },
    {
      "cell_type": "code",
      "execution_count": null,
      "source": [
        "for alpha in \"Python\":\n",
        "    if alpha.isupper():\n",
        "        print(alpha)"
      ],
      "outputs": [],
      "metadata": {
        "id": "BEuVbiNNaKYL"
      }
    },
    {
      "cell_type": "code",
      "execution_count": null,
      "source": [
        "\"Python\".lower()"
      ],
      "outputs": [],
      "metadata": {
        "id": "2_8eps_xaKYM"
      }
    },
    {
      "cell_type": "code",
      "execution_count": null,
      "source": [
        "\"Python\".upper()"
      ],
      "outputs": [],
      "metadata": {
        "id": "GjZgh56raKYM"
      }
    },
    {
      "cell_type": "code",
      "execution_count": null,
      "source": [
        "for alpha in \"Python\":\n",
        "    if alpha == \"t\":\n",
        "        print(alpha.upper(),end='')\n",
        "    else:\n",
        "        print(alpha, end='')"
      ],
      "outputs": [],
      "metadata": {
        "id": "NV9iU7cEaKYN"
      }
    },
    {
      "cell_type": "code",
      "execution_count": null,
      "source": [],
      "outputs": [],
      "metadata": {
        "id": "0_hP92FUaKYN"
      }
    },
    {
      "cell_type": "markdown",
      "source": [
        "# Built-in Data Structure"
      ],
      "metadata": {
        "id": "IpD9NY68aKYO"
      }
    },
    {
      "cell_type": "markdown",
      "source": [
        "* List\\[]\n",
        "* Tuple()\n",
        "* Set {}\n",
        "* Dictionary{key:Value}"
      ],
      "metadata": {
        "id": "x9Kt19fsaKYO"
      }
    },
    {
      "cell_type": "markdown",
      "source": [
        "## List"
      ],
      "metadata": {
        "id": "uiLdw1YpaKYO"
      }
    },
    {
      "cell_type": "code",
      "execution_count": null,
      "source": [
        "list1 = [1,2,3,4,5,6,5,8,9, True, \"Python\"]\n",
        "list1"
      ],
      "outputs": [],
      "metadata": {
        "id": "GxNNXrxoaKYP"
      }
    },
    {
      "cell_type": "code",
      "execution_count": null,
      "source": [
        "list1[3:6]"
      ],
      "outputs": [],
      "metadata": {
        "id": "q4TxSMFraKYP"
      }
    },
    {
      "cell_type": "code",
      "execution_count": null,
      "source": [
        "list1[3:6:2]"
      ],
      "outputs": [],
      "metadata": {
        "id": "mkHWmifmaKYP"
      }
    },
    {
      "cell_type": "code",
      "execution_count": null,
      "source": [
        "list1.remove(5)\n",
        "list1.index(5)"
      ],
      "outputs": [],
      "metadata": {
        "id": "pnXTOEn9aKYQ"
      }
    },
    {
      "cell_type": "code",
      "execution_count": null,
      "source": [
        "len(list1)-1"
      ],
      "outputs": [],
      "metadata": {
        "id": "Zg-CDbzRaKYQ"
      }
    },
    {
      "cell_type": "code",
      "execution_count": null,
      "source": [
        "for el in list1:\n",
        "    print(el)"
      ],
      "outputs": [],
      "metadata": {
        "id": "KWWssKC4aKYR"
      }
    },
    {
      "cell_type": "code",
      "execution_count": null,
      "source": [
        "list2 = [8,5,6,3,4,6]\n",
        "list2"
      ],
      "outputs": [],
      "metadata": {
        "id": "Q9f0oKmQaKYT"
      }
    },
    {
      "cell_type": "code",
      "execution_count": null,
      "source": [
        "list2.append(8)\n",
        "list2"
      ],
      "outputs": [],
      "metadata": {
        "id": "qCNzZLBQaKYT"
      }
    },
    {
      "cell_type": "code",
      "execution_count": null,
      "source": [
        "list2.insert(0, 9)\n",
        "list2"
      ],
      "outputs": [],
      "metadata": {
        "id": "zCsUyLSGaKYU"
      }
    },
    {
      "cell_type": "code",
      "execution_count": null,
      "source": [
        "list2[0] = 1\n",
        "list2"
      ],
      "outputs": [],
      "metadata": {
        "id": "DZ1TN5j6aKYU"
      }
    },
    {
      "cell_type": "code",
      "execution_count": null,
      "source": [
        "del list2[4]"
      ],
      "outputs": [],
      "metadata": {
        "id": "ZnXsQ3a1aKYV"
      }
    },
    {
      "cell_type": "code",
      "execution_count": null,
      "source": [
        "list2"
      ],
      "outputs": [],
      "metadata": {
        "id": "camJ1-tAaKYV"
      }
    },
    {
      "cell_type": "code",
      "execution_count": null,
      "source": [
        "list2.sort()\n",
        "list2"
      ],
      "outputs": [],
      "metadata": {
        "id": "MYc6R_XZaKYV"
      }
    },
    {
      "cell_type": "code",
      "execution_count": null,
      "source": [
        "list2.sort(reverse=True)\n",
        "list2"
      ],
      "outputs": [],
      "metadata": {
        "id": "4ByON4c9aKYW"
      }
    },
    {
      "cell_type": "code",
      "execution_count": null,
      "source": [
        "list2.extend([2,4,6])\n",
        "list2"
      ],
      "outputs": [],
      "metadata": {
        "id": "HKsflRBPaKYW"
      }
    },
    {
      "cell_type": "code",
      "execution_count": null,
      "source": [
        "list2.count(6)"
      ],
      "outputs": [],
      "metadata": {
        "id": "Df4Sf7bAaKYW"
      }
    },
    {
      "cell_type": "code",
      "execution_count": null,
      "source": [
        "list1+list2"
      ],
      "outputs": [],
      "metadata": {
        "id": "DHnILgDIaKYX"
      }
    },
    {
      "cell_type": "code",
      "execution_count": null,
      "source": [
        "list1, list2 = list2, list1\n",
        "list1"
      ],
      "outputs": [],
      "metadata": {
        "id": "1n2nb2G1aKYX"
      }
    },
    {
      "cell_type": "code",
      "execution_count": null,
      "source": [
        "list(range(1,1000))"
      ],
      "outputs": [],
      "metadata": {
        "id": "vch3T_G1aKYX"
      }
    }
  ],
  "metadata": {
    "interpreter": {
      "hash": "5e02d0efff813a9368c354e505ea65821711dca306094a6f79d155d3e22f7a88"
    },
    "kernelspec": {
      "name": "python3",
      "display_name": "Python 3.9.5 64-bit"
    },
    "language_info": {
      "codemirror_mode": {
        "name": "ipython",
        "version": 3
      },
      "file_extension": ".py",
      "mimetype": "text/x-python",
      "name": "python",
      "nbconvert_exporter": "python",
      "pygments_lexer": "ipython3",
      "version": "3.9.5"
    },
    "orig_nbformat": 4,
    "colab": {
      "provenance": []
    }
  },
  "nbformat": 4,
  "nbformat_minor": 0
}