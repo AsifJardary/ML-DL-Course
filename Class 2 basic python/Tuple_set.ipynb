{
  "cells": [
    {
      "cell_type": "code",
      "execution_count": null,
      "source": [
        "#Problem 2\n",
        "# Write program for a smart door\n",
        "# opendoor@2021\n",
        "# Which will take password and will try to match with actual password\n",
        "# if matches then door will opwn\n",
        "# other wise it will show enter password again\n",
        "# maximum try will be 3, after that door will be locked.\n"
      ],
      "outputs": [],
      "metadata": {
        "id": "6Qv7-ZNQaj9g"
      }
    },
    {
      "cell_type": "markdown",
      "source": [
        "## Tuple"
      ],
      "metadata": {
        "id": "o_AeCW8baj9h"
      }
    },
    {
      "cell_type": "code",
      "execution_count": null,
      "source": [
        "tup = (1, True, \"Python\")\n",
        "type(tup)"
      ],
      "outputs": [
        {
          "output_type": "execute_result",
          "data": {
            "text/plain": [
              "tuple"
            ]
          },
          "metadata": {},
          "execution_count": 11
        }
      ],
      "metadata": {
        "id": "XfgPEI6gaj9h",
        "outputId": "936b0585-0dba-48fb-9d61-0b99d6273e64"
      }
    },
    {
      "cell_type": "code",
      "execution_count": null,
      "source": [
        "tup[2]"
      ],
      "outputs": [
        {
          "output_type": "execute_result",
          "data": {
            "text/plain": [
              "'Python'"
            ]
          },
          "metadata": {},
          "execution_count": 5
        }
      ],
      "metadata": {
        "id": "P_FBn-cRaj9i",
        "outputId": "47f946f1-1775-454a-daca-ffe107b95f60"
      }
    },
    {
      "cell_type": "code",
      "execution_count": null,
      "source": [
        "tup[2] = \"Java\""
      ],
      "outputs": [
        {
          "output_type": "error",
          "ename": "TypeError",
          "evalue": "'tuple' object does not support item assignment",
          "traceback": [
            "\u001b[1;31m---------------------------------------------------------------------------\u001b[0m",
            "\u001b[1;31mTypeError\u001b[0m                                 Traceback (most recent call last)",
            "\u001b[1;32m<ipython-input-6-b6ac81471084>\u001b[0m in \u001b[0;36m<module>\u001b[1;34m\u001b[0m\n\u001b[1;32m----> 1\u001b[1;33m \u001b[0mtup\u001b[0m\u001b[1;33m[\u001b[0m\u001b[1;36m2\u001b[0m\u001b[1;33m]\u001b[0m \u001b[1;33m=\u001b[0m \u001b[1;34m\"Java\"\u001b[0m\u001b[1;33m\u001b[0m\u001b[1;33m\u001b[0m\u001b[0m\n\u001b[0m",
            "\u001b[1;31mTypeError\u001b[0m: 'tuple' object does not support item assignment"
          ]
        }
      ],
      "metadata": {
        "id": "KhkTJUmOaj9k",
        "outputId": "a8881564-01b7-439f-9c6d-3755434c15e4"
      }
    },
    {
      "cell_type": "code",
      "execution_count": null,
      "source": [
        "del tup[2]"
      ],
      "outputs": [
        {
          "output_type": "error",
          "ename": "TypeError",
          "evalue": "'tuple' object doesn't support item deletion",
          "traceback": [
            "\u001b[1;31m---------------------------------------------------------------------------\u001b[0m",
            "\u001b[1;31mTypeError\u001b[0m                                 Traceback (most recent call last)",
            "\u001b[1;32m<ipython-input-7-c7888f99c820>\u001b[0m in \u001b[0;36m<module>\u001b[1;34m\u001b[0m\n\u001b[1;32m----> 1\u001b[1;33m \u001b[1;32mdel\u001b[0m \u001b[0mtup\u001b[0m\u001b[1;33m[\u001b[0m\u001b[1;36m2\u001b[0m\u001b[1;33m]\u001b[0m\u001b[1;33m\u001b[0m\u001b[1;33m\u001b[0m\u001b[0m\n\u001b[0m",
            "\u001b[1;31mTypeError\u001b[0m: 'tuple' object doesn't support item deletion"
          ]
        }
      ],
      "metadata": {
        "id": "EVmEOsjWaj9l",
        "outputId": "80060783-8ae4-42d3-b4b2-7479b2c510f1"
      }
    },
    {
      "cell_type": "code",
      "execution_count": null,
      "source": [
        "l = list(tup)\n",
        "del l[2]"
      ],
      "outputs": [],
      "metadata": {
        "id": "SryG5EPnaj9l"
      }
    },
    {
      "cell_type": "code",
      "execution_count": null,
      "source": [
        "l"
      ],
      "outputs": [
        {
          "output_type": "execute_result",
          "data": {
            "text/plain": [
              "[1, True]"
            ]
          },
          "metadata": {},
          "execution_count": 14
        }
      ],
      "metadata": {
        "id": "7q5PWaSHaj9m",
        "outputId": "fd75b041-ee59-40e6-bbe8-7735b9778029"
      }
    },
    {
      "cell_type": "code",
      "execution_count": null,
      "source": [
        "del tup"
      ],
      "outputs": [],
      "metadata": {
        "id": "beaEZ0dVaj9n"
      }
    },
    {
      "cell_type": "code",
      "execution_count": null,
      "source": [
        "tup"
      ],
      "outputs": [
        {
          "output_type": "error",
          "ename": "NameError",
          "evalue": "name 'tup' is not defined",
          "traceback": [
            "\u001b[1;31m---------------------------------------------------------------------------\u001b[0m",
            "\u001b[1;31mNameError\u001b[0m                                 Traceback (most recent call last)",
            "\u001b[1;32m<ipython-input-9-95b80b2375ef>\u001b[0m in \u001b[0;36m<module>\u001b[1;34m\u001b[0m\n\u001b[1;32m----> 1\u001b[1;33m \u001b[0mtup\u001b[0m\u001b[1;33m\u001b[0m\u001b[1;33m\u001b[0m\u001b[0m\n\u001b[0m",
            "\u001b[1;31mNameError\u001b[0m: name 'tup' is not defined"
          ]
        }
      ],
      "metadata": {
        "id": "M1XlLlaIaj9n",
        "outputId": "d075a2a3-ae3f-416b-b45d-bbb57388916e"
      }
    },
    {
      "cell_type": "code",
      "execution_count": null,
      "source": [
        "list(tup)"
      ],
      "outputs": [],
      "metadata": {
        "id": "srTew91Zaj9o"
      }
    },
    {
      "cell_type": "markdown",
      "source": [
        "## Set"
      ],
      "metadata": {
        "id": "O9B8ZOHqaj9o"
      }
    },
    {
      "cell_type": "code",
      "execution_count": null,
      "source": [
        "sett = {1,1,2,3,4}\n",
        "sett"
      ],
      "outputs": [
        {
          "output_type": "execute_result",
          "data": {
            "text/plain": [
              "{1, 2, 3, 4}"
            ]
          },
          "metadata": {},
          "execution_count": 16
        }
      ],
      "metadata": {
        "id": "vsQRmRyPaj9o",
        "outputId": "ad1a5219-ebe3-4c65-86be-00ec2247ab22"
      }
    },
    {
      "cell_type": "code",
      "execution_count": null,
      "source": [
        "sett2 = {2,3,4,5,6}\n",
        "sett2"
      ],
      "outputs": [
        {
          "output_type": "execute_result",
          "data": {
            "text/plain": [
              "{2, 3, 4, 5, 6}"
            ]
          },
          "metadata": {},
          "execution_count": 19
        }
      ],
      "metadata": {
        "id": "hw_LxMLWaj9p",
        "outputId": "57f64fd2-7e7d-438b-adcf-fe7aea32b6f7"
      }
    },
    {
      "cell_type": "code",
      "execution_count": null,
      "source": [
        "sett[0]"
      ],
      "outputs": [
        {
          "output_type": "error",
          "ename": "TypeError",
          "evalue": "'set' object is not subscriptable",
          "traceback": [
            "\u001b[1;31m---------------------------------------------------------------------------\u001b[0m",
            "\u001b[1;31mTypeError\u001b[0m                                 Traceback (most recent call last)",
            "\u001b[1;32m<ipython-input-17-acd33c05430d>\u001b[0m in \u001b[0;36m<module>\u001b[1;34m\u001b[0m\n\u001b[1;32m----> 1\u001b[1;33m \u001b[0msett\u001b[0m\u001b[1;33m[\u001b[0m\u001b[1;36m0\u001b[0m\u001b[1;33m]\u001b[0m\u001b[1;33m\u001b[0m\u001b[1;33m\u001b[0m\u001b[0m\n\u001b[0m",
            "\u001b[1;31mTypeError\u001b[0m: 'set' object is not subscriptable"
          ]
        }
      ],
      "metadata": {
        "id": "viaX7tUraj9q",
        "outputId": "870ac784-b8c4-4c3b-b0b5-b48cf815dc5b"
      }
    },
    {
      "cell_type": "code",
      "execution_count": null,
      "source": [
        "for num in sett:\n",
        "    print(num)"
      ],
      "outputs": [
        {
          "output_type": "stream",
          "name": "stdout",
          "text": [
            "1\n",
            "2\n",
            "3\n",
            "4\n"
          ]
        }
      ],
      "metadata": {
        "id": "lkerwFIWaj9q",
        "outputId": "dc6efa73-4938-4892-e4b3-124d0f0d8ffc"
      }
    },
    {
      "cell_type": "code",
      "execution_count": null,
      "source": [
        "sett.add(9)\n",
        "sett"
      ],
      "outputs": [
        {
          "output_type": "execute_result",
          "data": {
            "text/plain": [
              "{1, 2, 3, 4, 9}"
            ]
          },
          "metadata": {},
          "execution_count": 20
        }
      ],
      "metadata": {
        "id": "UQqLobIQaj9r",
        "outputId": "8a6f958f-646d-41e5-9b77-ab81348ea8a3"
      }
    },
    {
      "cell_type": "code",
      "execution_count": null,
      "source": [
        "sett.union(sett2)"
      ],
      "outputs": [
        {
          "output_type": "execute_result",
          "data": {
            "text/plain": [
              "{1, 2, 3, 4, 5, 6, 9}"
            ]
          },
          "metadata": {},
          "execution_count": 21
        }
      ],
      "metadata": {
        "id": "K2hO9QoFaj9r",
        "outputId": "3e3db0f2-2949-4791-f89a-aeca76e9ff55"
      }
    },
    {
      "cell_type": "code",
      "execution_count": null,
      "source": [
        "sett.intersection(sett2)"
      ],
      "outputs": [
        {
          "output_type": "execute_result",
          "data": {
            "text/plain": [
              "{2, 3, 4}"
            ]
          },
          "metadata": {},
          "execution_count": 22
        }
      ],
      "metadata": {
        "id": "_8VrVTfWaj9s",
        "outputId": "c3743d38-50da-4b10-9e4c-983db420fefa"
      }
    },
    {
      "cell_type": "code",
      "execution_count": null,
      "source": [],
      "outputs": [],
      "metadata": {
        "id": "eHGq5NpRaj9s"
      }
    },
    {
      "cell_type": "code",
      "execution_count": null,
      "source": [],
      "outputs": [],
      "metadata": {
        "id": "rD6yIpeSaj9s"
      }
    }
  ],
  "metadata": {
    "interpreter": {
      "hash": "5e02d0efff813a9368c354e505ea65821711dca306094a6f79d155d3e22f7a88"
    },
    "kernelspec": {
      "name": "python3",
      "display_name": "Python 3.9.5 64-bit"
    },
    "language_info": {
      "codemirror_mode": {
        "name": "ipython",
        "version": 3
      },
      "file_extension": ".py",
      "mimetype": "text/x-python",
      "name": "python",
      "nbconvert_exporter": "python",
      "pygments_lexer": "ipython3",
      "version": "3.9.5"
    },
    "orig_nbformat": 4,
    "colab": {
      "provenance": []
    }
  },
  "nbformat": 4,
  "nbformat_minor": 0
}